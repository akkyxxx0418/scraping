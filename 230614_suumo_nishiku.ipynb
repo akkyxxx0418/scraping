{
 "cells": [
  {
   "cell_type": "markdown",
   "id": "1487c111-064e-4ed2-85df-b6b3441e24c4",
   "metadata": {},
   "source": [
    "■SUUMOのホームページから賃貸情報を取得する"
   ]
  },
  {
   "cell_type": "code",
   "execution_count": 1,
   "id": "77358c6f-4c6c-4085-a36d-216d9d56b111",
   "metadata": {},
   "outputs": [],
   "source": [
    "#おまじない\n",
    "#importする順番はアルファベット順が良い！\n",
    "from bs4 import BeautifulSoup\n",
    "import requests"
   ]
  },
  {
   "cell_type": "code",
   "execution_count": 2,
   "id": "9fe6da7e-fe78-4056-9148-bd513d03be92",
   "metadata": {},
   "outputs": [
    {
     "name": "stdout",
     "output_type": "stream",
     "text": [
      "https://suumo.jp/chintai/osaka/sc_osakashinishi/?page=1\n"
     ]
    }
   ],
   "source": [
    "#変数URLにSUUMOのホームページURLを格納する\n",
    "url = 'https://suumo.jp/chintai/osaka/sc_osakashinishi/?page={}'\n",
    "\n",
    "#アクセスするためのURLをtarget_urlに格納する\n",
    "target_url = url.format(1)\n",
    "\n",
    "#print()してtarget_urlを確認する\n",
    "print(target_url)"
   ]
  },
  {
   "cell_type": "code",
   "execution_count": 3,
   "id": "81b788f3-4e30-4ab2-b538-8cf75c09c891",
   "metadata": {},
   "outputs": [],
   "source": [
    "#target_urlへのアクセス結果を変数rに格納する\n",
    "r = requests.get(target_url)\n",
    "\n",
    "#取得結果を解析してsoupに格納する\n",
    "soup = BeautifulSoup(r.text)"
   ]
  },
  {
   "cell_type": "markdown",
   "id": "5fc0967c-bf4d-4abb-b69b-3238770b909a",
   "metadata": {},
   "source": [
    "■物件情報の取得"
   ]
  },
  {
   "cell_type": "code",
   "execution_count": 4,
   "id": "3e15e649-4742-4dd8-99c3-683e0a4481a7",
   "metadata": {},
   "outputs": [],
   "source": [
    "#HTMLを確認→それぞれの賃貸情報はcassetteitemに格納されている\n",
    "contents = soup.find_all('div',class_='cassetteitem')"
   ]
  },
  {
   "cell_type": "code",
   "execution_count": 5,
   "id": "68aadf31-e97e-4b70-bbb6-f3ded5b3c0d0",
   "metadata": {},
   "outputs": [
    {
     "data": {
      "text/plain": [
       "20"
      ]
     },
     "execution_count": 5,
     "metadata": {},
     "output_type": "execute_result"
    }
   ],
   "source": [
    "#find_allで取得した結果はリスト形式になっているのでlenで要素数を確認。1pあたり２０件\n",
    "len(contents)"
   ]
  },
  {
   "cell_type": "code",
   "execution_count": 6,
   "id": "5d0d6edd-da59-4707-ab26-b999aef0ffd0",
   "metadata": {},
   "outputs": [],
   "source": [
    "#まずは一つ取り出す！\n",
    "content = contents[0]"
   ]
  },
  {
   "cell_type": "code",
   "execution_count": 7,
   "id": "d9874116-d878-4cb3-abe9-e6d84f1088e6",
   "metadata": {},
   "outputs": [],
   "source": [
    "#物件・建物情報を変数detailに格納\n",
    "detail = content.find('div',class_='cassetteitem-detail')"
   ]
  },
  {
   "cell_type": "code",
   "execution_count": 8,
   "id": "d3ec3505-c756-47ce-b292-c947ad24c436",
   "metadata": {},
   "outputs": [],
   "source": [
    "#変数titleに物件名を格納,text情報だけ抜くので.text\n",
    "title = detail.find('div',class_='cassetteitem_content-title').text\n",
    "\n",
    "#変数addressに住所を格納\n",
    "address = detail.find('li',class_='cassetteitem_detail-col1').text\n",
    "\n",
    "#変数accessにアクセス情報を格納\n",
    "access = detail.find('li',class_='cassetteitem_detail-col2').text\n",
    "\n",
    "#変数ageに築年数を格納\n",
    "age = detail.find('li',class_='cassetteitem_detail-col3').text"
   ]
  },
  {
   "cell_type": "code",
   "execution_count": 9,
   "id": "716fa446-2bac-4b70-97da-14886a33cecf",
   "metadata": {},
   "outputs": [
    {
     "data": {
      "text/plain": [
       "('ルシエルみなと通り\\u3000旭化成ヘーベルメゾンHEBEL HAUS',\n",
       " '大阪府大阪市西区九条南２',\n",
       " '\\n地下鉄中央線/九条駅 歩5分\\n地下鉄長堀鶴見緑地線/ドーム前千代崎駅 歩7分\\nＪＲ大阪環状線/大正駅 歩12分\\n',\n",
       " '\\n築8年\\n4階建\\n')"
      ]
     },
     "execution_count": 9,
     "metadata": {},
     "output_type": "execute_result"
    }
   ],
   "source": [
    "title,address,access,age"
   ]
  },
  {
   "cell_type": "markdown",
   "id": "193ff1a2-d5ad-4655-a3f9-b2949cf66d61",
   "metadata": {},
   "source": [
    "■部屋情報の取得"
   ]
  },
  {
   "cell_type": "code",
   "execution_count": 10,
   "id": "8b47f20a-9d6d-4130-aa20-4e6fbeab6913",
   "metadata": {},
   "outputs": [],
   "source": [
    "#各部屋の情報を変数tableに格納\n",
    "table = content.find('div',class_='cassetteitem-item')"
   ]
  },
  {
   "cell_type": "code",
   "execution_count": 11,
   "id": "ba6fbfe7-aa09-42f7-9275-fdf2a348cb2d",
   "metadata": {},
   "outputs": [],
   "source": [
    "#変数tableから全てのtrタグを取得、変数tr_tagsに格納\n",
    "tr_tags = table.find_all('tr',class_='js-cassette_link')\n",
    "\n",
    "#tr_tagsの中から最初の一つだけtr_tagに格納\n",
    "tr_tag = tr_tags[0]"
   ]
  },
  {
   "cell_type": "code",
   "execution_count": 12,
   "id": "47d54626-51d0-4974-ad86-4504de68facf",
   "metadata": {},
   "outputs": [],
   "source": [
    "#trの中身確認。tdの３〜６番目に情報が格納されている。\n",
    "#find_allで取得した結果はリスト形式で出てくるので、スライスを使って欲しい部分を取り出す\n",
    "\n",
    "#変数floor,price,first_fee,capacity\n",
    "\n",
    "floor,price,first_fee,capacity = tr_tag.find_all('td')[2:6]"
   ]
  },
  {
   "cell_type": "code",
   "execution_count": 13,
   "id": "1c451300-e558-49e7-8cae-c194a0b7f818",
   "metadata": {},
   "outputs": [
    {
     "name": "stdout",
     "output_type": "stream",
     "text": [
      "3\n",
      "4\n"
     ]
    }
   ],
   "source": [
    "#unpack→パックされたいた物を解除する方法！\n",
    "l = [1,2,3,4,5]\n",
    "a,b = l[2:4]\n",
    "print(a)\n",
    "print(b)"
   ]
  },
  {
   "cell_type": "code",
   "execution_count": 14,
   "id": "8b38ebe1-dedf-490a-a37d-ef8e985e32f8",
   "metadata": {},
   "outputs": [],
   "source": [
    "#さらにliが入っているので分解\n",
    "#変数feeとmanagement_feeに賃料と管理費を格納\n",
    "fee,management_fee = price.find_all('li')\n",
    "\n",
    "#変数depositとgratuityに敷金、礼金を格納\n",
    "deposit,gratuity = first_fee.find_all('li')\n",
    "\n",
    "#変数madoriとmensekiに間取りと面積を格納\n",
    "madori,menseki = capacity.find_all('li')"
   ]
  },
  {
   "cell_type": "code",
   "execution_count": 15,
   "id": "68e9c66b-16d4-46a1-a23c-24a1f820233a",
   "metadata": {},
   "outputs": [
    {
     "name": "stdout",
     "output_type": "stream",
     "text": [
      "<li><span class=\"cassetteitem_price cassetteitem_price--rent\"><span class=\"cassetteitem_other-emphasis ui-text--bold\">8.3万円</span></span></li>\n",
      "<li><span class=\"cassetteitem_price cassetteitem_price--administration\">6000円</span></li>\n",
      "\n",
      "<li><span class=\"cassetteitem_price cassetteitem_price--deposit\">5万円</span></li>\n",
      "<li><span class=\"cassetteitem_price cassetteitem_price--gratuity\">16.6万円</span></li>\n",
      "\n",
      "<li><span class=\"cassetteitem_madori\">1LDK</span></li>\n",
      "<li><span class=\"cassetteitem_menseki\">46.83m<sup>2</sup></span></li>\n"
     ]
    }
   ],
   "source": [
    "print(fee)\n",
    "print(management_fee)\n",
    "print()\n",
    "print(deposit)\n",
    "print(gratuity)\n",
    "print()\n",
    "print(madori)\n",
    "print(menseki)"
   ]
  },
  {
   "cell_type": "markdown",
   "id": "72996aaf-41a3-4394-84ce-94efad978890",
   "metadata": {},
   "source": [
    "■取得した情報を辞書に格納する"
   ]
  },
  {
   "cell_type": "code",
   "execution_count": 16,
   "id": "3e641397-2b79-45d0-a3f9-e28e45f57531",
   "metadata": {},
   "outputs": [],
   "source": [
    "#あとでデータを扱いやすくするために辞書型に格納する！\n",
    "\n",
    "d = {\n",
    "    'title':title,\n",
    "    'address':address,\n",
    "    'access':access,\n",
    "    'age':age,\n",
    "    'floor':floor.text,\n",
    "    'fee':fee.text,\n",
    "    'management_fee':management_fee.text,\n",
    "    'deposit':deposit.text,\n",
    "    'gratuity':gratuity.text,\n",
    "    'madori':madori.text,\n",
    "    'menseki':menseki.text\n",
    "}"
   ]
  },
  {
   "cell_type": "code",
   "execution_count": 17,
   "id": "5a0f7edf-bb68-4477-a0e0-f46f5fb37b94",
   "metadata": {},
   "outputs": [
    {
     "data": {
      "text/plain": [
       "{'title': 'ルシエルみなと通り\\u3000旭化成ヘーベルメゾンHEBEL HAUS',\n",
       " 'address': '大阪府大阪市西区九条南２',\n",
       " 'access': '\\n地下鉄中央線/九条駅 歩5分\\n地下鉄長堀鶴見緑地線/ドーム前千代崎駅 歩7分\\nＪＲ大阪環状線/大正駅 歩12分\\n',\n",
       " 'age': '\\n築8年\\n4階建\\n',\n",
       " 'floor': '\\r\\n\\t\\t\\t\\t\\t\\t\\t\\t\\t\\t\\t3階',\n",
       " 'fee': '8.3万円',\n",
       " 'management_fee': '6000円',\n",
       " 'deposit': '5万円',\n",
       " 'gratuity': '16.6万円',\n",
       " 'madori': '1LDK',\n",
       " 'menseki': '46.83m2'}"
      ]
     },
     "execution_count": 17,
     "metadata": {},
     "output_type": "execute_result"
    }
   ],
   "source": [
    "d"
   ]
  },
  {
   "cell_type": "markdown",
   "id": "b6742e5d-9e75-43c8-9a65-112873f924fe",
   "metadata": {},
   "source": [
    "■1ページ目から全ての情報を取得する"
   ]
  },
  {
   "cell_type": "code",
   "execution_count": 18,
   "id": "beac8014-cc34-46c3-8083-3982a7b969ed",
   "metadata": {},
   "outputs": [],
   "source": [
    "#変数d_listに空のリストを作成する\n",
    "d_list = []\n",
    "\n",
    "#全ての物件情報（２０件）を取得する\n",
    "contents = soup.find_all('div',class_='cassetteitem')\n",
    "\n",
    "#各物件情報をforループで取得する\n",
    "for content in contents:\n",
    "    \n",
    "    #物件情報と部屋情報を取得\n",
    "    detail = content.find('div',class_='cassetteitem-detail')\n",
    "    table = content.find('div',class_='cassetteitem-item')\n",
    "    \n",
    "    #物件情報から必要な情報を取得\n",
    "    title = detail.find('div',class_='cassetteitem_content-title').text\n",
    "    address = detail.find('li',class_='cassetteitem_detail-col1').text\n",
    "    access = detail.find('li',class_='cassetteitem_detail-col2').text\n",
    "    age = detail.find('li',class_='cassetteitem_detail-col3').text\n",
    "    \n",
    "    #部屋情報のブロックから各部屋情報を取得\n",
    "    tr_tags = table.find_all('tr',class_='js-cassette_link')\n",
    "    \n",
    "    #各部屋情報をforループで取得する\n",
    "    for tr_tag in tr_tags:\n",
    "        \n",
    "        #部屋情報の行から欲しい情報を取得\n",
    "        floor,price,first_fee,capacity = tr_tag.find_all('td')[2:6]\n",
    "        \n",
    "        #さらに細かい情報を取得\n",
    "        fee,management_fee = price.find_all('li')\n",
    "        deposit,gratuity = first_fee.find_all('li')\n",
    "        madori,menseki = capacity.find_all('li')\n",
    "        \n",
    "        #取得した全ての情報を辞書に格納\n",
    "        d = {\n",
    "            'title':title,\n",
    "            'address':address,\n",
    "            'access':access,\n",
    "            'age':age,\n",
    "            'floor':floor.text,\n",
    "            'fee':fee.text,\n",
    "            'management_fee':management_fee.text,\n",
    "            'deposit':deposit.text,\n",
    "            'gratuity':gratuity.text,\n",
    "            'madori':madori.text,\n",
    "            'menseki':menseki.text\n",
    "        }\n",
    "        \n",
    "        #取得した辞書をd_listに格納する！\n",
    "        \n",
    "        d_list.append(d)"
   ]
  },
  {
   "cell_type": "code",
   "execution_count": 19,
   "id": "8281f338-4ff9-4bb4-a9dc-d1cce81e9afd",
   "metadata": {},
   "outputs": [],
   "source": [
    "#printを使うと見辛いのでpprintをインポートする\n",
    "from pprint import pprint"
   ]
  },
  {
   "cell_type": "code",
   "execution_count": 20,
   "id": "b9b645dc-19f2-4948-8010-ab53408a3639",
   "metadata": {
    "collapsed": true,
    "jupyter": {
     "outputs_hidden": true
    },
    "tags": []
   },
   "outputs": [
    {
     "name": "stdout",
     "output_type": "stream",
     "text": [
      "{'access': '\\n地下鉄中央線/九条駅 歩5分\\n地下鉄長堀鶴見緑地線/ドーム前千代崎駅 歩7分\\nＪＲ大阪環状線/大正駅 歩12分\\n',\n",
      " 'address': '大阪府大阪市西区九条南２',\n",
      " 'age': '\\n築8年\\n4階建\\n',\n",
      " 'deposit': '5万円',\n",
      " 'fee': '8.3万円',\n",
      " 'floor': '\\r\\n\\t\\t\\t\\t\\t\\t\\t\\t\\t\\t\\t3階',\n",
      " 'gratuity': '16.6万円',\n",
      " 'madori': '1LDK',\n",
      " 'management_fee': '6000円',\n",
      " 'menseki': '46.83m2',\n",
      " 'title': 'ルシエルみなと通り\\u3000旭化成ヘーベルメゾンHEBEL HAUS'}\n",
      "\n",
      "{'access': '\\n地下鉄千日前線/阿波座駅 歩5分\\n地下鉄長堀鶴見緑地線/西長堀駅 歩6分\\n地下鉄四つ橋線/四ツ橋駅 歩15分\\n',\n",
      " 'address': '大阪府大阪市西区立売堀４',\n",
      " 'age': '\\n築3年\\n15階建\\n',\n",
      " 'deposit': '-',\n",
      " 'fee': '6.15万円',\n",
      " 'floor': '\\r\\n\\t\\t\\t\\t\\t\\t\\t\\t\\t\\t\\t4階',\n",
      " 'gratuity': '6.15万円',\n",
      " 'madori': '1K',\n",
      " 'management_fee': '7250円',\n",
      " 'menseki': '23.02m2',\n",
      " 'title': 'プレサンス立売堀ベルヴィル'}\n"
     ]
    }
   ],
   "source": [
    "pprint(d_list[0])\n",
    "print()\n",
    "pprint(d_list[1])"
   ]
  },
  {
   "cell_type": "markdown",
   "id": "bb6b06a0-f027-4cc9-b676-75c0bfd9336d",
   "metadata": {},
   "source": [
    "■複数ページから情報取得する"
   ]
  },
  {
   "cell_type": "code",
   "execution_count": 21,
   "id": "c2b8cff3-792f-40f1-8acc-f5384c0d4bf5",
   "metadata": {},
   "outputs": [],
   "source": [
    "#ライブラリのインポート\n",
    "from time import sleep"
   ]
  },
  {
   "cell_type": "code",
   "execution_count": 22,
   "id": "c0fd3fa4-2ec4-4ff0-8b5e-8d3c9a9cf882",
   "metadata": {},
   "outputs": [],
   "source": [
    "#1　アクセスするURLを設定する　→ここを２、３・・・と変更していけばよい！\n",
    "#2 Requestsを使って設定したURLにアクセスする\n",
    "#3 取得したHTMLをBeautifulSoupをで解析する\n",
    "#4 全ての物件情報を取得する（２０件）\n",
    "#5 各物件情報から物件の詳細と各部屋情報を取得する\n",
    "#6　それぞれを解析する\n",
    "#7　解析した結果を辞書に格納する"
   ]
  },
  {
   "cell_type": "code",
   "execution_count": 23,
   "id": "0bc9dd71-bc3c-410e-bf56-78753c2eba52",
   "metadata": {},
   "outputs": [],
   "source": [
    "#変数URLにSUUMOのホームページURLを格納する\n",
    "url = 'https://suumo.jp/chintai/osaka/sc_osakashinishi/?page={}'\n",
    "d_list = []"
   ]
  },
  {
   "cell_type": "code",
   "execution_count": 24,
   "id": "942b3325-1257-4fb5-a9f0-8c2e1bf5d88b",
   "metadata": {
    "jupyter": {
     "source_hidden": true
    },
    "tags": []
   },
   "outputs": [
    {
     "name": "stdout",
     "output_type": "stream",
     "text": [
      "d_listの大きさ: 0\n",
      "https://suumo.jp/chintai/osaka/sc_osakashinishi/?page=1\n",
      "d_listの大きさ: 216\n",
      "https://suumo.jp/chintai/osaka/sc_osakashinishi/?page=2\n",
      "d_listの大きさ: 457\n",
      "https://suumo.jp/chintai/osaka/sc_osakashinishi/?page=3\n"
     ]
    }
   ],
   "source": [
    "#1〜３をループする\n",
    "\n",
    "for i in range(1,4):\n",
    "    print('d_listの大きさ:', len(d_list))\n",
    "    \n",
    "    #変数target_urlにアクセス先のURLを格納する\n",
    "    target_url = url.format(i)\n",
    "    \n",
    "    print(target_url) \n",
    "    \n",
    "    #target_urlへのアクセス結果を変数rに格納する→ここでデータとってきてる！\n",
    "    r = requests.get(target_url)\n",
    "    \n",
    "    sleep(1)\n",
    "    \n",
    "    #取得結果を解析してsoupに格納する\n",
    "    soup = BeautifulSoup(r.text)\n",
    "    \n",
    "    #変数d_listに空のリストを作成する\n",
    "    #d_list = []→これ不要！！！\n",
    "\n",
    "    #全ての物件情報（２０件）を取得する\n",
    "    contents = soup.find_all('div',class_='cassetteitem')\n",
    "\n",
    "    #各物件情報をforループで取得する\n",
    "    for content in contents:\n",
    "    \n",
    "        #物件情報と部屋情報を取得\n",
    "        detail = content.find('div',class_='cassetteitem-detail')\n",
    "        table = content.find('div',class_='cassetteitem-item')\n",
    "\n",
    "        #物件情報から必要な情報を取得\n",
    "        title = detail.find('div',class_='cassetteitem_content-title').text\n",
    "        address = detail.find('li',class_='cassetteitem_detail-col1').text\n",
    "        access = detail.find('li',class_='cassetteitem_detail-col2').text\n",
    "        age = detail.find('li',class_='cassetteitem_detail-col3').text\n",
    "\n",
    "        #部屋情報のブロックから各部屋情報を取得\n",
    "        tr_tags = table.find_all('tr',class_='js-cassette_link')\n",
    "\n",
    "        #各部屋情報をforループで取得する\n",
    "        for tr_tag in tr_tags:\n",
    "\n",
    "            #部屋情報の行から欲しい情報を取得\n",
    "            floor,price,first_fee,capacity = tr_tag.find_all('td')[2:6]\n",
    "\n",
    "            #さらに細かい情報を取得\n",
    "            fee,management_fee = price.find_all('li')\n",
    "            deposit,gratuity = first_fee.find_all('li')\n",
    "            madori,menseki = capacity.find_all('li')\n",
    "\n",
    "            #取得した全ての情報を辞書に格納\n",
    "            d = {\n",
    "                'title':title,\n",
    "                'address':address,\n",
    "                'access':access,\n",
    "                'age':age,\n",
    "                'floor':floor.text,\n",
    "                'fee':fee.text,\n",
    "                'management_fee':management_fee.text,\n",
    "                'deposit':deposit.text,\n",
    "                'gratuity':gratuity.text,\n",
    "                'madori':madori.text,\n",
    "                'menseki':menseki.text\n",
    "            }\n",
    "\n",
    "            #取得した辞書をd_listに格納する！\n",
    "\n",
    "            d_list.append(d)"
   ]
  },
  {
   "cell_type": "code",
   "execution_count": 25,
   "id": "8fba0f41-58c5-4e10-a7bc-88ca05c184cd",
   "metadata": {},
   "outputs": [
    {
     "data": {
      "text/plain": [
       "{'title': 'レフィシアコート江戸堀',\n",
       " 'address': '大阪府大阪市西区江戸堀１',\n",
       " 'access': '\\n地下鉄四つ橋線/肥後橋駅 歩8分\\n地下鉄御堂筋線/本町駅 歩11分\\n地下鉄千日前線/阿波座駅 歩17分\\n',\n",
       " 'age': '\\n築3年\\n15階建\\n',\n",
       " 'floor': '\\r\\n\\t\\t\\t\\t\\t\\t\\t\\t\\t\\t\\t6階',\n",
       " 'fee': '12万円',\n",
       " 'management_fee': '8000円',\n",
       " 'deposit': '2万円',\n",
       " 'gratuity': '25万円',\n",
       " 'madori': '1LDK',\n",
       " 'menseki': '46.87m2'}"
      ]
     },
     "execution_count": 25,
     "metadata": {},
     "output_type": "execute_result"
    }
   ],
   "source": [
    "#最後の物件を確認！\n",
    "d_list[-1]"
   ]
  },
  {
   "cell_type": "markdown",
   "id": "2d3db2cd-b900-4c01-96b0-e38efbe3fb89",
   "metadata": {},
   "source": [
    "■スクレイピング結果をCSVに保存する"
   ]
  },
  {
   "cell_type": "code",
   "execution_count": 26,
   "id": "736d700a-057d-4975-b814-ac1ab6039330",
   "metadata": {},
   "outputs": [],
   "source": [
    "#ライブラリのインポート\n",
    "import pandas as pd"
   ]
  },
  {
   "cell_type": "code",
   "execution_count": 27,
   "id": "c445e7f3-6ac9-4094-a757-43123bd7fdbe",
   "metadata": {
    "collapsed": true,
    "jupyter": {
     "outputs_hidden": true
    },
    "tags": []
   },
   "outputs": [
    {
     "data": {
      "text/plain": [
       "[{'title': 'ルシエルみなと通り\\u3000旭化成ヘーベルメゾンHEBEL HAUS',\n",
       "  'address': '大阪府大阪市西区九条南２',\n",
       "  'access': '\\n地下鉄中央線/九条駅 歩5分\\n地下鉄長堀鶴見緑地線/ドーム前千代崎駅 歩7分\\nＪＲ大阪環状線/大正駅 歩12分\\n',\n",
       "  'age': '\\n築8年\\n4階建\\n',\n",
       "  'floor': '\\r\\n\\t\\t\\t\\t\\t\\t\\t\\t\\t\\t\\t3階',\n",
       "  'fee': '8.3万円',\n",
       "  'management_fee': '6000円',\n",
       "  'deposit': '5万円',\n",
       "  'gratuity': '16.6万円',\n",
       "  'madori': '1LDK',\n",
       "  'menseki': '46.83m2'},\n",
       " {'title': 'プレサンス立売堀ベルヴィル',\n",
       "  'address': '大阪府大阪市西区立売堀４',\n",
       "  'access': '\\n地下鉄千日前線/阿波座駅 歩5分\\n地下鉄長堀鶴見緑地線/西長堀駅 歩6分\\n地下鉄四つ橋線/四ツ橋駅 歩15分\\n',\n",
       "  'age': '\\n築3年\\n15階建\\n',\n",
       "  'floor': '\\r\\n\\t\\t\\t\\t\\t\\t\\t\\t\\t\\t\\t4階',\n",
       "  'fee': '6.15万円',\n",
       "  'management_fee': '7250円',\n",
       "  'deposit': '-',\n",
       "  'gratuity': '6.15万円',\n",
       "  'madori': '1K',\n",
       "  'menseki': '23.02m2'},\n",
       " {'title': 'プレサンス立売堀ベルヴィル',\n",
       "  'address': '大阪府大阪市西区立売堀４',\n",
       "  'access': '\\n地下鉄千日前線/阿波座駅 歩5分\\n地下鉄長堀鶴見緑地線/西長堀駅 歩6分\\n地下鉄四つ橋線/四ツ橋駅 歩15分\\n',\n",
       "  'age': '\\n築3年\\n15階建\\n',\n",
       "  'floor': '\\r\\n\\t\\t\\t\\t\\t\\t\\t\\t\\t\\t\\t2階',\n",
       "  'fee': '6.38万円',\n",
       "  'management_fee': '7310円',\n",
       "  'deposit': '-',\n",
       "  'gratuity': '6.38万円',\n",
       "  'madori': '1K',\n",
       "  'menseki': '23.2m2'}]"
      ]
     },
     "execution_count": 27,
     "metadata": {},
     "output_type": "execute_result"
    }
   ],
   "source": [
    "d_list[:3]"
   ]
  },
  {
   "cell_type": "markdown",
   "id": "9d2aca84-22e0-432f-89d6-54fb3e5c294d",
   "metadata": {},
   "source": [
    "■取得したデータを保存する"
   ]
  },
  {
   "cell_type": "code",
   "execution_count": 28,
   "id": "7abfd1f2-5227-4f4a-b457-6825cd0fffb1",
   "metadata": {
    "collapsed": true,
    "jupyter": {
     "outputs_hidden": true
    },
    "tags": []
   },
   "outputs": [
    {
     "data": {
      "text/html": [
       "<div>\n",
       "<style scoped>\n",
       "    .dataframe tbody tr th:only-of-type {\n",
       "        vertical-align: middle;\n",
       "    }\n",
       "\n",
       "    .dataframe tbody tr th {\n",
       "        vertical-align: top;\n",
       "    }\n",
       "\n",
       "    .dataframe thead th {\n",
       "        text-align: right;\n",
       "    }\n",
       "</style>\n",
       "<table border=\"1\" class=\"dataframe\">\n",
       "  <thead>\n",
       "    <tr style=\"text-align: right;\">\n",
       "      <th></th>\n",
       "      <th>title</th>\n",
       "      <th>address</th>\n",
       "      <th>access</th>\n",
       "      <th>age</th>\n",
       "      <th>floor</th>\n",
       "      <th>fee</th>\n",
       "      <th>management_fee</th>\n",
       "      <th>deposit</th>\n",
       "      <th>gratuity</th>\n",
       "      <th>madori</th>\n",
       "      <th>menseki</th>\n",
       "    </tr>\n",
       "  </thead>\n",
       "  <tbody>\n",
       "    <tr>\n",
       "      <th>0</th>\n",
       "      <td>ルシエルみなと通り　旭化成ヘーベルメゾンHEBEL HAUS</td>\n",
       "      <td>大阪府大阪市西区九条南２</td>\n",
       "      <td>\\n地下鉄中央線/九条駅 歩5分\\n地下鉄長堀鶴見緑地線/ドーム前千代崎駅 歩7分\\nＪＲ大...</td>\n",
       "      <td>\\n築8年\\n4階建\\n</td>\n",
       "      <td>\\r\\n\\t\\t\\t\\t\\t\\t\\t\\t\\t\\t\\t3階</td>\n",
       "      <td>8.3万円</td>\n",
       "      <td>6000円</td>\n",
       "      <td>5万円</td>\n",
       "      <td>16.6万円</td>\n",
       "      <td>1LDK</td>\n",
       "      <td>46.83m2</td>\n",
       "    </tr>\n",
       "    <tr>\n",
       "      <th>1</th>\n",
       "      <td>プレサンス立売堀ベルヴィル</td>\n",
       "      <td>大阪府大阪市西区立売堀４</td>\n",
       "      <td>\\n地下鉄千日前線/阿波座駅 歩5分\\n地下鉄長堀鶴見緑地線/西長堀駅 歩6分\\n地下鉄四つ...</td>\n",
       "      <td>\\n築3年\\n15階建\\n</td>\n",
       "      <td>\\r\\n\\t\\t\\t\\t\\t\\t\\t\\t\\t\\t\\t4階</td>\n",
       "      <td>6.15万円</td>\n",
       "      <td>7250円</td>\n",
       "      <td>-</td>\n",
       "      <td>6.15万円</td>\n",
       "      <td>1K</td>\n",
       "      <td>23.02m2</td>\n",
       "    </tr>\n",
       "    <tr>\n",
       "      <th>2</th>\n",
       "      <td>プレサンス立売堀ベルヴィル</td>\n",
       "      <td>大阪府大阪市西区立売堀４</td>\n",
       "      <td>\\n地下鉄千日前線/阿波座駅 歩5分\\n地下鉄長堀鶴見緑地線/西長堀駅 歩6分\\n地下鉄四つ...</td>\n",
       "      <td>\\n築3年\\n15階建\\n</td>\n",
       "      <td>\\r\\n\\t\\t\\t\\t\\t\\t\\t\\t\\t\\t\\t2階</td>\n",
       "      <td>6.38万円</td>\n",
       "      <td>7310円</td>\n",
       "      <td>-</td>\n",
       "      <td>6.38万円</td>\n",
       "      <td>1K</td>\n",
       "      <td>23.2m2</td>\n",
       "    </tr>\n",
       "    <tr>\n",
       "      <th>3</th>\n",
       "      <td>プレサンス立売堀ベルヴィル</td>\n",
       "      <td>大阪府大阪市西区立売堀４</td>\n",
       "      <td>\\n地下鉄千日前線/阿波座駅 歩5分\\n地下鉄長堀鶴見緑地線/西長堀駅 歩6分\\n地下鉄四つ...</td>\n",
       "      <td>\\n築3年\\n15階建\\n</td>\n",
       "      <td>\\r\\n\\t\\t\\t\\t\\t\\t\\t\\t\\t\\t\\t10階</td>\n",
       "      <td>6.53万円</td>\n",
       "      <td>7250円</td>\n",
       "      <td>-</td>\n",
       "      <td>6.53万円</td>\n",
       "      <td>1K</td>\n",
       "      <td>23.2m2</td>\n",
       "    </tr>\n",
       "    <tr>\n",
       "      <th>4</th>\n",
       "      <td>プレサンス立売堀ベルヴィル</td>\n",
       "      <td>大阪府大阪市西区立売堀４</td>\n",
       "      <td>\\n地下鉄千日前線/阿波座駅 歩5分\\n地下鉄長堀鶴見緑地線/西長堀駅 歩6分\\n地下鉄四つ...</td>\n",
       "      <td>\\n築3年\\n15階建\\n</td>\n",
       "      <td>\\r\\n\\t\\t\\t\\t\\t\\t\\t\\t\\t\\t\\t11階</td>\n",
       "      <td>6.56万円</td>\n",
       "      <td>7250円</td>\n",
       "      <td>-</td>\n",
       "      <td>-</td>\n",
       "      <td>1K</td>\n",
       "      <td>23.2m2</td>\n",
       "    </tr>\n",
       "  </tbody>\n",
       "</table>\n",
       "</div>"
      ],
      "text/plain": [
       "                            title       address  \\\n",
       "0  ルシエルみなと通り　旭化成ヘーベルメゾンHEBEL HAUS  大阪府大阪市西区九条南２   \n",
       "1                   プレサンス立売堀ベルヴィル  大阪府大阪市西区立売堀４   \n",
       "2                   プレサンス立売堀ベルヴィル  大阪府大阪市西区立売堀４   \n",
       "3                   プレサンス立売堀ベルヴィル  大阪府大阪市西区立売堀４   \n",
       "4                   プレサンス立売堀ベルヴィル  大阪府大阪市西区立売堀４   \n",
       "\n",
       "                                              access            age  \\\n",
       "0  \\n地下鉄中央線/九条駅 歩5分\\n地下鉄長堀鶴見緑地線/ドーム前千代崎駅 歩7分\\nＪＲ大...   \\n築8年\\n4階建\\n   \n",
       "1  \\n地下鉄千日前線/阿波座駅 歩5分\\n地下鉄長堀鶴見緑地線/西長堀駅 歩6分\\n地下鉄四つ...  \\n築3年\\n15階建\\n   \n",
       "2  \\n地下鉄千日前線/阿波座駅 歩5分\\n地下鉄長堀鶴見緑地線/西長堀駅 歩6分\\n地下鉄四つ...  \\n築3年\\n15階建\\n   \n",
       "3  \\n地下鉄千日前線/阿波座駅 歩5分\\n地下鉄長堀鶴見緑地線/西長堀駅 歩6分\\n地下鉄四つ...  \\n築3年\\n15階建\\n   \n",
       "4  \\n地下鉄千日前線/阿波座駅 歩5分\\n地下鉄長堀鶴見緑地線/西長堀駅 歩6分\\n地下鉄四つ...  \\n築3年\\n15階建\\n   \n",
       "\n",
       "                           floor     fee management_fee deposit gratuity  \\\n",
       "0   \\r\\n\\t\\t\\t\\t\\t\\t\\t\\t\\t\\t\\t3階   8.3万円          6000円     5万円   16.6万円   \n",
       "1   \\r\\n\\t\\t\\t\\t\\t\\t\\t\\t\\t\\t\\t4階  6.15万円          7250円       -   6.15万円   \n",
       "2   \\r\\n\\t\\t\\t\\t\\t\\t\\t\\t\\t\\t\\t2階  6.38万円          7310円       -   6.38万円   \n",
       "3  \\r\\n\\t\\t\\t\\t\\t\\t\\t\\t\\t\\t\\t10階  6.53万円          7250円       -   6.53万円   \n",
       "4  \\r\\n\\t\\t\\t\\t\\t\\t\\t\\t\\t\\t\\t11階  6.56万円          7250円       -        -   \n",
       "\n",
       "  madori  menseki  \n",
       "0   1LDK  46.83m2  \n",
       "1     1K  23.02m2  \n",
       "2     1K   23.2m2  \n",
       "3     1K   23.2m2  \n",
       "4     1K   23.2m2  "
      ]
     },
     "execution_count": 28,
     "metadata": {},
     "output_type": "execute_result"
    }
   ],
   "source": [
    "#取得したデータ結果を表形式に変える！\n",
    "#headで先頭業を確認\n",
    "\n",
    "df = pd.DataFrame(d_list)\n",
    "df.head()"
   ]
  },
  {
   "cell_type": "code",
   "execution_count": 29,
   "id": "06a9d5d1-3e7d-494b-9b36-bf7075d282cd",
   "metadata": {},
   "outputs": [
    {
     "data": {
      "text/plain": [
       "60"
      ]
     },
     "execution_count": 29,
     "metadata": {},
     "output_type": "execute_result"
    }
   ],
   "source": [
    "#uniqueで重複なく取り出せる→２０件×3ページになっているか確認\n",
    "len(df.title.unique())"
   ]
  },
  {
   "cell_type": "code",
   "execution_count": 30,
   "id": "d935ad2b-c68d-4acb-8dc1-3878aa7b7296",
   "metadata": {},
   "outputs": [],
   "source": [
    "#encordinghはエクセル文字化け対策！\n",
    "df.to_csv('test.csv',index=None,encoding='utf-8-sig')"
   ]
  },
  {
   "cell_type": "markdown",
   "id": "eb954885-4d14-470f-8192-08b854dc2e1d",
   "metadata": {},
   "source": [
    "■スプレッドシートのインポート(0614)"
   ]
  },
  {
   "cell_type": "code",
   "execution_count": 9,
   "id": "85043863-f07c-4343-a6cb-a79e487b32c4",
   "metadata": {
    "collapsed": true,
    "jupyter": {
     "outputs_hidden": true
    },
    "tags": []
   },
   "outputs": [
    {
     "name": "stdout",
     "output_type": "stream",
     "text": [
      "Requirement already satisfied: gspread in /Users/kuwayamaaki/opt/anaconda3/lib/python3.9/site-packages (5.8.0)\n",
      "Requirement already satisfied: google-auth-oauthlib>=0.4.1 in /Users/kuwayamaaki/opt/anaconda3/lib/python3.9/site-packages (from gspread) (1.0.0)\n",
      "Requirement already satisfied: google-auth>=1.12.0 in /Users/kuwayamaaki/opt/anaconda3/lib/python3.9/site-packages (from gspread) (2.17.1)\n",
      "Requirement already satisfied: rsa<5,>=3.1.4 in /Users/kuwayamaaki/opt/anaconda3/lib/python3.9/site-packages (from google-auth>=1.12.0->gspread) (4.9)\n",
      "Requirement already satisfied: pyasn1-modules>=0.2.1 in /Users/kuwayamaaki/opt/anaconda3/lib/python3.9/site-packages (from google-auth>=1.12.0->gspread) (0.2.8)\n",
      "Requirement already satisfied: cachetools<6.0,>=2.0.0 in /Users/kuwayamaaki/opt/anaconda3/lib/python3.9/site-packages (from google-auth>=1.12.0->gspread) (5.3.0)\n",
      "Requirement already satisfied: six>=1.9.0 in /Users/kuwayamaaki/opt/anaconda3/lib/python3.9/site-packages (from google-auth>=1.12.0->gspread) (1.16.0)\n",
      "Requirement already satisfied: requests-oauthlib>=0.7.0 in /Users/kuwayamaaki/opt/anaconda3/lib/python3.9/site-packages (from google-auth-oauthlib>=0.4.1->gspread) (1.3.1)\n",
      "Requirement already satisfied: pyasn1<0.5.0,>=0.4.6 in /Users/kuwayamaaki/opt/anaconda3/lib/python3.9/site-packages (from pyasn1-modules>=0.2.1->google-auth>=1.12.0->gspread) (0.4.8)\n",
      "Requirement already satisfied: oauthlib>=3.0.0 in /Users/kuwayamaaki/opt/anaconda3/lib/python3.9/site-packages (from requests-oauthlib>=0.7.0->google-auth-oauthlib>=0.4.1->gspread) (3.2.2)\n",
      "Requirement already satisfied: requests>=2.0.0 in /Users/kuwayamaaki/opt/anaconda3/lib/python3.9/site-packages (from requests-oauthlib>=0.7.0->google-auth-oauthlib>=0.4.1->gspread) (2.28.1)\n",
      "Requirement already satisfied: urllib3<1.27,>=1.21.1 in /Users/kuwayamaaki/opt/anaconda3/lib/python3.9/site-packages (from requests>=2.0.0->requests-oauthlib>=0.7.0->google-auth-oauthlib>=0.4.1->gspread) (1.26.11)\n",
      "Requirement already satisfied: idna<4,>=2.5 in /Users/kuwayamaaki/opt/anaconda3/lib/python3.9/site-packages (from requests>=2.0.0->requests-oauthlib>=0.7.0->google-auth-oauthlib>=0.4.1->gspread) (3.3)\n",
      "Requirement already satisfied: certifi>=2017.4.17 in /Users/kuwayamaaki/opt/anaconda3/lib/python3.9/site-packages (from requests>=2.0.0->requests-oauthlib>=0.7.0->google-auth-oauthlib>=0.4.1->gspread) (2022.9.24)\n",
      "Requirement already satisfied: charset-normalizer<3,>=2 in /Users/kuwayamaaki/opt/anaconda3/lib/python3.9/site-packages (from requests>=2.0.0->requests-oauthlib>=0.7.0->google-auth-oauthlib>=0.4.1->gspread) (2.0.4)\n",
      "Requirement already satisfied: oauth2client in /Users/kuwayamaaki/opt/anaconda3/lib/python3.9/site-packages (4.1.3)\n",
      "Requirement already satisfied: pyasn1-modules>=0.0.5 in /Users/kuwayamaaki/opt/anaconda3/lib/python3.9/site-packages (from oauth2client) (0.2.8)\n",
      "Requirement already satisfied: six>=1.6.1 in /Users/kuwayamaaki/opt/anaconda3/lib/python3.9/site-packages (from oauth2client) (1.16.0)\n",
      "Requirement already satisfied: pyasn1>=0.1.7 in /Users/kuwayamaaki/opt/anaconda3/lib/python3.9/site-packages (from oauth2client) (0.4.8)\n",
      "Requirement already satisfied: rsa>=3.1.4 in /Users/kuwayamaaki/opt/anaconda3/lib/python3.9/site-packages (from oauth2client) (4.9)\n",
      "Requirement already satisfied: httplib2>=0.9.1 in /Users/kuwayamaaki/opt/anaconda3/lib/python3.9/site-packages (from oauth2client) (0.22.0)\n",
      "Requirement already satisfied: pyparsing!=3.0.0,!=3.0.1,!=3.0.2,!=3.0.3,<4,>=2.4.2 in /Users/kuwayamaaki/opt/anaconda3/lib/python3.9/site-packages (from httplib2>=0.9.1->oauth2client) (3.0.9)\n"
     ]
    }
   ],
   "source": [
    "!pip3 install gspread\n",
    "!pip3 install oauth2client"
   ]
  },
  {
   "cell_type": "code",
   "execution_count": 10,
   "id": "741bced9-c9dd-4488-b0b2-277f84d9bb1a",
   "metadata": {},
   "outputs": [],
   "source": [
    "import gspread\n",
    "from oauth2client.service_account import ServiceAccountCredentials"
   ]
  },
  {
   "cell_type": "code",
   "execution_count": 11,
   "id": "eb5efba8-af4e-4a3f-9015-80c2bd903bef",
   "metadata": {},
   "outputs": [],
   "source": [
    "#jsonfファイルを使って認証情報を取得する！\n",
    "SCOPES = ['https://www.googleapis.com/auth/spreadsheets','https://www.googleapis.com/auth/drive']\n",
    "SERVICE_ACCOUNT_FILE = 'tenacious-works-389907-13b55bdb7d6b.json'"
   ]
  },
  {
   "cell_type": "code",
   "execution_count": 12,
   "id": "a2fcbd7a-9928-4271-959c-050037f6f639",
   "metadata": {},
   "outputs": [],
   "source": [
    "#秘密鍵jsonファイルへのパス、APIの情報\n",
    "credentials = ServiceAccountCredentials.from_json_keyfile_name(SERVICE_ACCOUNT_FILE,SCOPES)"
   ]
  },
  {
   "cell_type": "code",
   "execution_count": 59,
   "id": "e0cd8ca2-4fb7-431b-8ab6-df9738789ee3",
   "metadata": {},
   "outputs": [],
   "source": [
    "gs = gspread.authorize(credentials)\n",
    "\n",
    "#worksheetの名前はファイル名じゃなくてシート名なので注意！\n",
    "SP_SHEET_KEY = '11wt6LvbrqjHywgNaGMsLaZKAj7n5ovaO1G4qPzj8jDE'\n",
    "worksheet = gs.open_by_key(SP_SHEET_KEY).worksheet(\"suumo_nishiku\")"
   ]
  },
  {
   "cell_type": "code",
   "execution_count": 60,
   "id": "e379b2c0-a3a1-4b71-8bda-aa0d355e0ae6",
   "metadata": {},
   "outputs": [
    {
     "data": {
      "text/plain": [
       "<Worksheet 'suumo_nishiku' id:849754097>"
      ]
     },
     "execution_count": 60,
     "metadata": {},
     "output_type": "execute_result"
    }
   ],
   "source": [
    "worksheet"
   ]
  },
  {
   "cell_type": "code",
   "execution_count": 58,
   "id": "f96a9efe-3fb5-4459-8363-1e4e3ad110fb",
   "metadata": {},
   "outputs": [
    {
     "name": "stdout",
     "output_type": "stream",
     "text": [
      "6000円\n"
     ]
    }
   ],
   "source": [
    "print(worksheet.acell(\"G2\").value)"
   ]
  },
  {
   "cell_type": "code",
   "execution_count": null,
   "id": "5aeafb55-60db-4cd1-92e5-fbb90dbb5f83",
   "metadata": {},
   "outputs": [],
   "source": [
    "■読み込んだデータの集計"
   ]
  },
  {
   "cell_type": "code",
   "execution_count": 24,
   "id": "433b25a7-7adb-4901-9b91-eebf7c79b972",
   "metadata": {},
   "outputs": [],
   "source": [
    "import pandas as pd"
   ]
  },
  {
   "cell_type": "code",
   "execution_count": 61,
   "id": "8b0e20db-ae1c-479a-8032-53298f96c224",
   "metadata": {},
   "outputs": [],
   "source": [
    "#ここがよくわからん・・・・・・・\n",
    "workbook = gs.open_by_key(SP_SHEET_KEY)\n",
    "worksheet = workbook.worksheet(\"suumo_nishiku\")"
   ]
  },
  {
   "cell_type": "code",
   "execution_count": 76,
   "id": "b42f768a-fbc1-421f-b90b-605baef27897",
   "metadata": {},
   "outputs": [
    {
     "name": "stdout",
     "output_type": "stream",
     "text": [
      "suumo_nishiku\n",
      "11wt6LvbrqjHywgNaGMsLaZKAj7n5ovaO1G4qPzj8jDE\n"
     ]
    }
   ],
   "source": [
    "print(workbook.title)\n",
    "print(workbook.id)"
   ]
  },
  {
   "cell_type": "code",
   "execution_count": 75,
   "id": "eba45395-439c-4fb2-b0aa-3daba24bca7a",
   "metadata": {},
   "outputs": [
    {
     "name": "stdout",
     "output_type": "stream",
     "text": [
      "<Worksheet 'suumo_nishiku' id:849754097>\n"
     ]
    }
   ],
   "source": [
    "print(worksheet)"
   ]
  },
  {
   "cell_type": "code",
   "execution_count": 77,
   "id": "07642999-d252-4449-820c-8a93268ae5e6",
   "metadata": {
    "collapsed": true,
    "jupyter": {
     "outputs_hidden": true
    },
    "tags": []
   },
   "outputs": [
    {
     "data": {
      "text/html": [
       "<div>\n",
       "<style scoped>\n",
       "    .dataframe tbody tr th:only-of-type {\n",
       "        vertical-align: middle;\n",
       "    }\n",
       "\n",
       "    .dataframe tbody tr th {\n",
       "        vertical-align: top;\n",
       "    }\n",
       "\n",
       "    .dataframe thead th {\n",
       "        text-align: right;\n",
       "    }\n",
       "</style>\n",
       "<table border=\"1\" class=\"dataframe\">\n",
       "  <thead>\n",
       "    <tr style=\"text-align: right;\">\n",
       "      <th></th>\n",
       "      <th>0</th>\n",
       "      <th>1</th>\n",
       "      <th>2</th>\n",
       "      <th>3</th>\n",
       "      <th>4</th>\n",
       "      <th>5</th>\n",
       "      <th>6</th>\n",
       "      <th>7</th>\n",
       "      <th>8</th>\n",
       "      <th>9</th>\n",
       "      <th>10</th>\n",
       "    </tr>\n",
       "  </thead>\n",
       "  <tbody>\n",
       "    <tr>\n",
       "      <th>0</th>\n",
       "      <td>title</td>\n",
       "      <td>address</td>\n",
       "      <td>access</td>\n",
       "      <td>age</td>\n",
       "      <td>floor</td>\n",
       "      <td>fee</td>\n",
       "      <td>management_fee</td>\n",
       "      <td>deposit</td>\n",
       "      <td>gratuity</td>\n",
       "      <td>madori</td>\n",
       "      <td>menseki</td>\n",
       "    </tr>\n",
       "    <tr>\n",
       "      <th>1</th>\n",
       "      <td>ルシエルみなと通り　旭化成ヘーベルメゾンHEBEL HAUS</td>\n",
       "      <td>大阪府大阪市西区九条南２</td>\n",
       "      <td>\\n地下鉄中央線/九条駅 歩5分\\n地下鉄長堀鶴見緑地線/ドーム前千代崎駅 歩7分\\nＪＲ大...</td>\n",
       "      <td>\\n築8年\\n4階建\\n</td>\n",
       "      <td>\\n\\t\\t\\t\\t\\t\\t\\t\\t\\t\\t\\t3階</td>\n",
       "      <td>8.3万円</td>\n",
       "      <td>6000円</td>\n",
       "      <td>5万円</td>\n",
       "      <td>16.6万円</td>\n",
       "      <td>1LDK</td>\n",
       "      <td>46.83m2</td>\n",
       "    </tr>\n",
       "    <tr>\n",
       "      <th>2</th>\n",
       "      <td>プレサンス立売堀ベルヴィル</td>\n",
       "      <td>大阪府大阪市西区立売堀４</td>\n",
       "      <td>\\n地下鉄千日前線/阿波座駅 歩5分\\n地下鉄長堀鶴見緑地線/西長堀駅 歩6分\\n地下鉄四つ...</td>\n",
       "      <td>\\n築3年\\n15階建\\n</td>\n",
       "      <td>\\n\\t\\t\\t\\t\\t\\t\\t\\t\\t\\t\\t4階</td>\n",
       "      <td>6.15万円</td>\n",
       "      <td>7250円</td>\n",
       "      <td>-</td>\n",
       "      <td>6.15万円</td>\n",
       "      <td>1K</td>\n",
       "      <td>23.02m2</td>\n",
       "    </tr>\n",
       "    <tr>\n",
       "      <th>3</th>\n",
       "      <td>プレサンス立売堀ベルヴィル</td>\n",
       "      <td>大阪府大阪市西区立売堀４</td>\n",
       "      <td>\\n地下鉄千日前線/阿波座駅 歩5分\\n地下鉄長堀鶴見緑地線/西長堀駅 歩6分\\n地下鉄四つ...</td>\n",
       "      <td>\\n築3年\\n15階建\\n</td>\n",
       "      <td>\\n\\t\\t\\t\\t\\t\\t\\t\\t\\t\\t\\t2階</td>\n",
       "      <td>6.38万円</td>\n",
       "      <td>7310円</td>\n",
       "      <td>-</td>\n",
       "      <td>6.38万円</td>\n",
       "      <td>1K</td>\n",
       "      <td>23.2m2</td>\n",
       "    </tr>\n",
       "    <tr>\n",
       "      <th>4</th>\n",
       "      <td>プレサンス立売堀ベルヴィル</td>\n",
       "      <td>大阪府大阪市西区立売堀４</td>\n",
       "      <td>\\n地下鉄千日前線/阿波座駅 歩5分\\n地下鉄長堀鶴見緑地線/西長堀駅 歩6分\\n地下鉄四つ...</td>\n",
       "      <td>\\n築3年\\n15階建\\n</td>\n",
       "      <td>\\n\\t\\t\\t\\t\\t\\t\\t\\t\\t\\t\\t10階</td>\n",
       "      <td>6.53万円</td>\n",
       "      <td>7250円</td>\n",
       "      <td>-</td>\n",
       "      <td>6.53万円</td>\n",
       "      <td>1K</td>\n",
       "      <td>23.2m2</td>\n",
       "    </tr>\n",
       "  </tbody>\n",
       "</table>\n",
       "</div>"
      ],
      "text/plain": [
       "                               0             1   \\\n",
       "0                           title       address   \n",
       "1  ルシエルみなと通り　旭化成ヘーベルメゾンHEBEL HAUS  大阪府大阪市西区九条南２   \n",
       "2                   プレサンス立売堀ベルヴィル  大阪府大阪市西区立売堀４   \n",
       "3                   プレサンス立売堀ベルヴィル  大阪府大阪市西区立売堀４   \n",
       "4                   プレサンス立売堀ベルヴィル  大阪府大阪市西区立売堀４   \n",
       "\n",
       "                                                  2              3   \\\n",
       "0                                             access            age   \n",
       "1  \\n地下鉄中央線/九条駅 歩5分\\n地下鉄長堀鶴見緑地線/ドーム前千代崎駅 歩7分\\nＪＲ大...   \\n築8年\\n4階建\\n   \n",
       "2  \\n地下鉄千日前線/阿波座駅 歩5分\\n地下鉄長堀鶴見緑地線/西長堀駅 歩6分\\n地下鉄四つ...  \\n築3年\\n15階建\\n   \n",
       "3  \\n地下鉄千日前線/阿波座駅 歩5分\\n地下鉄長堀鶴見緑地線/西長堀駅 歩6分\\n地下鉄四つ...  \\n築3年\\n15階建\\n   \n",
       "4  \\n地下鉄千日前線/阿波座駅 歩5分\\n地下鉄長堀鶴見緑地線/西長堀駅 歩6分\\n地下鉄四つ...  \\n築3年\\n15階建\\n   \n",
       "\n",
       "                            4       5               6        7         8   \\\n",
       "0                        floor     fee  management_fee  deposit  gratuity   \n",
       "1   \\n\\t\\t\\t\\t\\t\\t\\t\\t\\t\\t\\t3階   8.3万円           6000円      5万円    16.6万円   \n",
       "2   \\n\\t\\t\\t\\t\\t\\t\\t\\t\\t\\t\\t4階  6.15万円           7250円        -    6.15万円   \n",
       "3   \\n\\t\\t\\t\\t\\t\\t\\t\\t\\t\\t\\t2階  6.38万円           7310円        -    6.38万円   \n",
       "4  \\n\\t\\t\\t\\t\\t\\t\\t\\t\\t\\t\\t10階  6.53万円           7250円        -    6.53万円   \n",
       "\n",
       "       9        10  \n",
       "0  madori  menseki  \n",
       "1    1LDK  46.83m2  \n",
       "2      1K  23.02m2  \n",
       "3      1K   23.2m2  \n",
       "4      1K   23.2m2  "
      ]
     },
     "execution_count": 77,
     "metadata": {},
     "output_type": "execute_result"
    }
   ],
   "source": [
    "df = pd.DataFrame(worksheet.get_all_values())\n",
    "df.head()"
   ]
  },
  {
   "cell_type": "code",
   "execution_count": null,
   "id": "3884f267-2e4b-437d-9d54-fd1a6eaf494b",
   "metadata": {},
   "outputs": [],
   "source": []
  },
  {
   "cell_type": "code",
   "execution_count": 78,
   "id": "43b2973a-9bc2-4e8b-9879-2a784a212e38",
   "metadata": {
    "collapsed": true,
    "jupyter": {
     "outputs_hidden": true
    },
    "tags": []
   },
   "outputs": [
    {
     "data": {
      "text/html": [
       "<div>\n",
       "<style scoped>\n",
       "    .dataframe tbody tr th:only-of-type {\n",
       "        vertical-align: middle;\n",
       "    }\n",
       "\n",
       "    .dataframe tbody tr th {\n",
       "        vertical-align: top;\n",
       "    }\n",
       "\n",
       "    .dataframe thead th {\n",
       "        text-align: right;\n",
       "    }\n",
       "</style>\n",
       "<table border=\"1\" class=\"dataframe\">\n",
       "  <thead>\n",
       "    <tr style=\"text-align: right;\">\n",
       "      <th></th>\n",
       "      <th>title</th>\n",
       "      <th>address</th>\n",
       "      <th>access</th>\n",
       "      <th>age</th>\n",
       "      <th>floor</th>\n",
       "      <th>fee</th>\n",
       "      <th>management_fee</th>\n",
       "      <th>deposit</th>\n",
       "      <th>gratuity</th>\n",
       "      <th>madori</th>\n",
       "      <th>menseki</th>\n",
       "    </tr>\n",
       "  </thead>\n",
       "  <tbody>\n",
       "    <tr>\n",
       "      <th>0</th>\n",
       "      <td>title</td>\n",
       "      <td>address</td>\n",
       "      <td>access</td>\n",
       "      <td>age</td>\n",
       "      <td>floor</td>\n",
       "      <td>fee</td>\n",
       "      <td>management_fee</td>\n",
       "      <td>deposit</td>\n",
       "      <td>gratuity</td>\n",
       "      <td>madori</td>\n",
       "      <td>menseki</td>\n",
       "    </tr>\n",
       "    <tr>\n",
       "      <th>1</th>\n",
       "      <td>ルシエルみなと通り　旭化成ヘーベルメゾンHEBEL HAUS</td>\n",
       "      <td>大阪府大阪市西区九条南２</td>\n",
       "      <td>\\n地下鉄中央線/九条駅 歩5分\\n地下鉄長堀鶴見緑地線/ドーム前千代崎駅 歩7分\\nＪＲ大...</td>\n",
       "      <td>\\n築8年\\n4階建\\n</td>\n",
       "      <td>\\n\\t\\t\\t\\t\\t\\t\\t\\t\\t\\t\\t3階</td>\n",
       "      <td>8.3万円</td>\n",
       "      <td>6000円</td>\n",
       "      <td>5万円</td>\n",
       "      <td>16.6万円</td>\n",
       "      <td>1LDK</td>\n",
       "      <td>46.83m2</td>\n",
       "    </tr>\n",
       "    <tr>\n",
       "      <th>2</th>\n",
       "      <td>プレサンス立売堀ベルヴィル</td>\n",
       "      <td>大阪府大阪市西区立売堀４</td>\n",
       "      <td>\\n地下鉄千日前線/阿波座駅 歩5分\\n地下鉄長堀鶴見緑地線/西長堀駅 歩6分\\n地下鉄四つ...</td>\n",
       "      <td>\\n築3年\\n15階建\\n</td>\n",
       "      <td>\\n\\t\\t\\t\\t\\t\\t\\t\\t\\t\\t\\t4階</td>\n",
       "      <td>6.15万円</td>\n",
       "      <td>7250円</td>\n",
       "      <td>-</td>\n",
       "      <td>6.15万円</td>\n",
       "      <td>1K</td>\n",
       "      <td>23.02m2</td>\n",
       "    </tr>\n",
       "    <tr>\n",
       "      <th>3</th>\n",
       "      <td>プレサンス立売堀ベルヴィル</td>\n",
       "      <td>大阪府大阪市西区立売堀４</td>\n",
       "      <td>\\n地下鉄千日前線/阿波座駅 歩5分\\n地下鉄長堀鶴見緑地線/西長堀駅 歩6分\\n地下鉄四つ...</td>\n",
       "      <td>\\n築3年\\n15階建\\n</td>\n",
       "      <td>\\n\\t\\t\\t\\t\\t\\t\\t\\t\\t\\t\\t2階</td>\n",
       "      <td>6.38万円</td>\n",
       "      <td>7310円</td>\n",
       "      <td>-</td>\n",
       "      <td>6.38万円</td>\n",
       "      <td>1K</td>\n",
       "      <td>23.2m2</td>\n",
       "    </tr>\n",
       "    <tr>\n",
       "      <th>4</th>\n",
       "      <td>プレサンス立売堀ベルヴィル</td>\n",
       "      <td>大阪府大阪市西区立売堀４</td>\n",
       "      <td>\\n地下鉄千日前線/阿波座駅 歩5分\\n地下鉄長堀鶴見緑地線/西長堀駅 歩6分\\n地下鉄四つ...</td>\n",
       "      <td>\\n築3年\\n15階建\\n</td>\n",
       "      <td>\\n\\t\\t\\t\\t\\t\\t\\t\\t\\t\\t\\t10階</td>\n",
       "      <td>6.53万円</td>\n",
       "      <td>7250円</td>\n",
       "      <td>-</td>\n",
       "      <td>6.53万円</td>\n",
       "      <td>1K</td>\n",
       "      <td>23.2m2</td>\n",
       "    </tr>\n",
       "  </tbody>\n",
       "</table>\n",
       "</div>"
      ],
      "text/plain": [
       "0                           title       address  \\\n",
       "0                           title       address   \n",
       "1  ルシエルみなと通り　旭化成ヘーベルメゾンHEBEL HAUS  大阪府大阪市西区九条南２   \n",
       "2                   プレサンス立売堀ベルヴィル  大阪府大阪市西区立売堀４   \n",
       "3                   プレサンス立売堀ベルヴィル  大阪府大阪市西区立売堀４   \n",
       "4                   プレサンス立売堀ベルヴィル  大阪府大阪市西区立売堀４   \n",
       "\n",
       "0                                             access            age  \\\n",
       "0                                             access            age   \n",
       "1  \\n地下鉄中央線/九条駅 歩5分\\n地下鉄長堀鶴見緑地線/ドーム前千代崎駅 歩7分\\nＪＲ大...   \\n築8年\\n4階建\\n   \n",
       "2  \\n地下鉄千日前線/阿波座駅 歩5分\\n地下鉄長堀鶴見緑地線/西長堀駅 歩6分\\n地下鉄四つ...  \\n築3年\\n15階建\\n   \n",
       "3  \\n地下鉄千日前線/阿波座駅 歩5分\\n地下鉄長堀鶴見緑地線/西長堀駅 歩6分\\n地下鉄四つ...  \\n築3年\\n15階建\\n   \n",
       "4  \\n地下鉄千日前線/阿波座駅 歩5分\\n地下鉄長堀鶴見緑地線/西長堀駅 歩6分\\n地下鉄四つ...  \\n築3年\\n15階建\\n   \n",
       "\n",
       "0                        floor     fee  management_fee  deposit  gratuity  \\\n",
       "0                        floor     fee  management_fee  deposit  gratuity   \n",
       "1   \\n\\t\\t\\t\\t\\t\\t\\t\\t\\t\\t\\t3階   8.3万円           6000円      5万円    16.6万円   \n",
       "2   \\n\\t\\t\\t\\t\\t\\t\\t\\t\\t\\t\\t4階  6.15万円           7250円        -    6.15万円   \n",
       "3   \\n\\t\\t\\t\\t\\t\\t\\t\\t\\t\\t\\t2階  6.38万円           7310円        -    6.38万円   \n",
       "4  \\n\\t\\t\\t\\t\\t\\t\\t\\t\\t\\t\\t10階  6.53万円           7250円        -    6.53万円   \n",
       "\n",
       "0  madori  menseki  \n",
       "0  madori  menseki  \n",
       "1    1LDK  46.83m2  \n",
       "2      1K  23.02m2  \n",
       "3      1K   23.2m2  \n",
       "4      1K   23.2m2  "
      ]
     },
     "execution_count": 78,
     "metadata": {},
     "output_type": "execute_result"
    }
   ],
   "source": [
    "#データフレームの最初の行のデータをカラムに設定する\n",
    "df.columns = df.iloc[0]\n",
    "df.head()"
   ]
  },
  {
   "cell_type": "code",
   "execution_count": 79,
   "id": "ea68bf51-7a3b-42d2-a6fa-1faaab7e5398",
   "metadata": {
    "collapsed": true,
    "jupyter": {
     "outputs_hidden": true
    },
    "tags": []
   },
   "outputs": [
    {
     "data": {
      "text/html": [
       "<div>\n",
       "<style scoped>\n",
       "    .dataframe tbody tr th:only-of-type {\n",
       "        vertical-align: middle;\n",
       "    }\n",
       "\n",
       "    .dataframe tbody tr th {\n",
       "        vertical-align: top;\n",
       "    }\n",
       "\n",
       "    .dataframe thead th {\n",
       "        text-align: right;\n",
       "    }\n",
       "</style>\n",
       "<table border=\"1\" class=\"dataframe\">\n",
       "  <thead>\n",
       "    <tr style=\"text-align: right;\">\n",
       "      <th></th>\n",
       "      <th>title</th>\n",
       "      <th>address</th>\n",
       "      <th>access</th>\n",
       "      <th>age</th>\n",
       "      <th>floor</th>\n",
       "      <th>fee</th>\n",
       "      <th>management_fee</th>\n",
       "      <th>deposit</th>\n",
       "      <th>gratuity</th>\n",
       "      <th>madori</th>\n",
       "      <th>menseki</th>\n",
       "    </tr>\n",
       "  </thead>\n",
       "  <tbody>\n",
       "    <tr>\n",
       "      <th>1</th>\n",
       "      <td>ルシエルみなと通り　旭化成ヘーベルメゾンHEBEL HAUS</td>\n",
       "      <td>大阪府大阪市西区九条南２</td>\n",
       "      <td>\\n地下鉄中央線/九条駅 歩5分\\n地下鉄長堀鶴見緑地線/ドーム前千代崎駅 歩7分\\nＪＲ大...</td>\n",
       "      <td>\\n築8年\\n4階建\\n</td>\n",
       "      <td>\\n\\t\\t\\t\\t\\t\\t\\t\\t\\t\\t\\t3階</td>\n",
       "      <td>8.3万円</td>\n",
       "      <td>6000円</td>\n",
       "      <td>5万円</td>\n",
       "      <td>16.6万円</td>\n",
       "      <td>1LDK</td>\n",
       "      <td>46.83m2</td>\n",
       "    </tr>\n",
       "    <tr>\n",
       "      <th>2</th>\n",
       "      <td>プレサンス立売堀ベルヴィル</td>\n",
       "      <td>大阪府大阪市西区立売堀４</td>\n",
       "      <td>\\n地下鉄千日前線/阿波座駅 歩5分\\n地下鉄長堀鶴見緑地線/西長堀駅 歩6分\\n地下鉄四つ...</td>\n",
       "      <td>\\n築3年\\n15階建\\n</td>\n",
       "      <td>\\n\\t\\t\\t\\t\\t\\t\\t\\t\\t\\t\\t4階</td>\n",
       "      <td>6.15万円</td>\n",
       "      <td>7250円</td>\n",
       "      <td>-</td>\n",
       "      <td>6.15万円</td>\n",
       "      <td>1K</td>\n",
       "      <td>23.02m2</td>\n",
       "    </tr>\n",
       "    <tr>\n",
       "      <th>3</th>\n",
       "      <td>プレサンス立売堀ベルヴィル</td>\n",
       "      <td>大阪府大阪市西区立売堀４</td>\n",
       "      <td>\\n地下鉄千日前線/阿波座駅 歩5分\\n地下鉄長堀鶴見緑地線/西長堀駅 歩6分\\n地下鉄四つ...</td>\n",
       "      <td>\\n築3年\\n15階建\\n</td>\n",
       "      <td>\\n\\t\\t\\t\\t\\t\\t\\t\\t\\t\\t\\t2階</td>\n",
       "      <td>6.38万円</td>\n",
       "      <td>7310円</td>\n",
       "      <td>-</td>\n",
       "      <td>6.38万円</td>\n",
       "      <td>1K</td>\n",
       "      <td>23.2m2</td>\n",
       "    </tr>\n",
       "    <tr>\n",
       "      <th>4</th>\n",
       "      <td>プレサンス立売堀ベルヴィル</td>\n",
       "      <td>大阪府大阪市西区立売堀４</td>\n",
       "      <td>\\n地下鉄千日前線/阿波座駅 歩5分\\n地下鉄長堀鶴見緑地線/西長堀駅 歩6分\\n地下鉄四つ...</td>\n",
       "      <td>\\n築3年\\n15階建\\n</td>\n",
       "      <td>\\n\\t\\t\\t\\t\\t\\t\\t\\t\\t\\t\\t10階</td>\n",
       "      <td>6.53万円</td>\n",
       "      <td>7250円</td>\n",
       "      <td>-</td>\n",
       "      <td>6.53万円</td>\n",
       "      <td>1K</td>\n",
       "      <td>23.2m2</td>\n",
       "    </tr>\n",
       "    <tr>\n",
       "      <th>5</th>\n",
       "      <td>プレサンス立売堀ベルヴィル</td>\n",
       "      <td>大阪府大阪市西区立売堀４</td>\n",
       "      <td>\\n地下鉄千日前線/阿波座駅 歩5分\\n地下鉄長堀鶴見緑地線/西長堀駅 歩6分\\n地下鉄四つ...</td>\n",
       "      <td>\\n築3年\\n15階建\\n</td>\n",
       "      <td>\\n\\t\\t\\t\\t\\t\\t\\t\\t\\t\\t\\t11階</td>\n",
       "      <td>6.56万円</td>\n",
       "      <td>7250円</td>\n",
       "      <td>-</td>\n",
       "      <td>-</td>\n",
       "      <td>1K</td>\n",
       "      <td>23.2m2</td>\n",
       "    </tr>\n",
       "  </tbody>\n",
       "</table>\n",
       "</div>"
      ],
      "text/plain": [
       "0                           title       address  \\\n",
       "1  ルシエルみなと通り　旭化成ヘーベルメゾンHEBEL HAUS  大阪府大阪市西区九条南２   \n",
       "2                   プレサンス立売堀ベルヴィル  大阪府大阪市西区立売堀４   \n",
       "3                   プレサンス立売堀ベルヴィル  大阪府大阪市西区立売堀４   \n",
       "4                   プレサンス立売堀ベルヴィル  大阪府大阪市西区立売堀４   \n",
       "5                   プレサンス立売堀ベルヴィル  大阪府大阪市西区立売堀４   \n",
       "\n",
       "0                                             access            age  \\\n",
       "1  \\n地下鉄中央線/九条駅 歩5分\\n地下鉄長堀鶴見緑地線/ドーム前千代崎駅 歩7分\\nＪＲ大...   \\n築8年\\n4階建\\n   \n",
       "2  \\n地下鉄千日前線/阿波座駅 歩5分\\n地下鉄長堀鶴見緑地線/西長堀駅 歩6分\\n地下鉄四つ...  \\n築3年\\n15階建\\n   \n",
       "3  \\n地下鉄千日前線/阿波座駅 歩5分\\n地下鉄長堀鶴見緑地線/西長堀駅 歩6分\\n地下鉄四つ...  \\n築3年\\n15階建\\n   \n",
       "4  \\n地下鉄千日前線/阿波座駅 歩5分\\n地下鉄長堀鶴見緑地線/西長堀駅 歩6分\\n地下鉄四つ...  \\n築3年\\n15階建\\n   \n",
       "5  \\n地下鉄千日前線/阿波座駅 歩5分\\n地下鉄長堀鶴見緑地線/西長堀駅 歩6分\\n地下鉄四つ...  \\n築3年\\n15階建\\n   \n",
       "\n",
       "0                        floor     fee management_fee deposit gratuity madori  \\\n",
       "1   \\n\\t\\t\\t\\t\\t\\t\\t\\t\\t\\t\\t3階   8.3万円          6000円     5万円   16.6万円   1LDK   \n",
       "2   \\n\\t\\t\\t\\t\\t\\t\\t\\t\\t\\t\\t4階  6.15万円          7250円       -   6.15万円     1K   \n",
       "3   \\n\\t\\t\\t\\t\\t\\t\\t\\t\\t\\t\\t2階  6.38万円          7310円       -   6.38万円     1K   \n",
       "4  \\n\\t\\t\\t\\t\\t\\t\\t\\t\\t\\t\\t10階  6.53万円          7250円       -   6.53万円     1K   \n",
       "5  \\n\\t\\t\\t\\t\\t\\t\\t\\t\\t\\t\\t11階  6.56万円          7250円       -        -     1K   \n",
       "\n",
       "0  menseki  \n",
       "1  46.83m2  \n",
       "2  23.02m2  \n",
       "3   23.2m2  \n",
       "4   23.2m2  \n",
       "5   23.2m2  "
      ]
     },
     "execution_count": 79,
     "metadata": {},
     "output_type": "execute_result"
    }
   ],
   "source": [
    "#１行目とカラムのデータが同じなので、１行目をdrop\n",
    "df = df.drop(df.index[[0]])\n",
    "df.head()"
   ]
  },
  {
   "cell_type": "code",
   "execution_count": 80,
   "id": "79370dc5-8e53-49c7-8b28-ec4175c33c31",
   "metadata": {
    "collapsed": true,
    "jupyter": {
     "outputs_hidden": true
    },
    "tags": []
   },
   "outputs": [
    {
     "data": {
      "text/plain": [
       "0\n",
       "title             object\n",
       "address           object\n",
       "access            object\n",
       "age               object\n",
       "floor             object\n",
       "fee               object\n",
       "management_fee    object\n",
       "deposit           object\n",
       "gratuity          object\n",
       "madori            object\n",
       "menseki           object\n",
       "dtype: object"
      ]
     },
     "execution_count": 80,
     "metadata": {},
     "output_type": "execute_result"
    }
   ],
   "source": [
    "#データ型の確認\n",
    "df.dtypes"
   ]
  },
  {
   "cell_type": "code",
   "execution_count": 81,
   "id": "55a05e65-5b19-4900-b4c5-2eb6dd9b9c78",
   "metadata": {
    "collapsed": true,
    "jupyter": {
     "outputs_hidden": true
    },
    "tags": []
   },
   "outputs": [
    {
     "data": {
      "text/html": [
       "<div>\n",
       "<style scoped>\n",
       "    .dataframe tbody tr th:only-of-type {\n",
       "        vertical-align: middle;\n",
       "    }\n",
       "\n",
       "    .dataframe tbody tr th {\n",
       "        vertical-align: top;\n",
       "    }\n",
       "\n",
       "    .dataframe thead th {\n",
       "        text-align: right;\n",
       "    }\n",
       "</style>\n",
       "<table border=\"1\" class=\"dataframe\">\n",
       "  <thead>\n",
       "    <tr style=\"text-align: right;\">\n",
       "      <th></th>\n",
       "      <th>title</th>\n",
       "      <th>address</th>\n",
       "      <th>access</th>\n",
       "      <th>age</th>\n",
       "      <th>floor</th>\n",
       "      <th>fee</th>\n",
       "      <th>management_fee</th>\n",
       "      <th>deposit</th>\n",
       "      <th>gratuity</th>\n",
       "      <th>madori</th>\n",
       "      <th>menseki</th>\n",
       "    </tr>\n",
       "  </thead>\n",
       "  <tbody>\n",
       "    <tr>\n",
       "      <th>1</th>\n",
       "      <td>ルシエルみなと通り　旭化成ヘーベルメゾンHEBEL HAUS</td>\n",
       "      <td>大阪府大阪市西区九条南２</td>\n",
       "      <td>\\n地下鉄中央線/九条駅 歩5分\\n地下鉄長堀鶴見緑地線/ドーム前千代崎駅 歩7分\\nＪＲ大...</td>\n",
       "      <td>\\n築8年\\n4階建\\n</td>\n",
       "      <td>\\n\\t\\t\\t\\t\\t\\t\\t\\t\\t\\t\\t3階</td>\n",
       "      <td>8.3</td>\n",
       "      <td>6000円</td>\n",
       "      <td>5万円</td>\n",
       "      <td>16.6万円</td>\n",
       "      <td>1LDK</td>\n",
       "      <td>46.83m2</td>\n",
       "    </tr>\n",
       "    <tr>\n",
       "      <th>2</th>\n",
       "      <td>プレサンス立売堀ベルヴィル</td>\n",
       "      <td>大阪府大阪市西区立売堀４</td>\n",
       "      <td>\\n地下鉄千日前線/阿波座駅 歩5分\\n地下鉄長堀鶴見緑地線/西長堀駅 歩6分\\n地下鉄四つ...</td>\n",
       "      <td>\\n築3年\\n15階建\\n</td>\n",
       "      <td>\\n\\t\\t\\t\\t\\t\\t\\t\\t\\t\\t\\t4階</td>\n",
       "      <td>6.15</td>\n",
       "      <td>7250円</td>\n",
       "      <td>-</td>\n",
       "      <td>6.15万円</td>\n",
       "      <td>1K</td>\n",
       "      <td>23.02m2</td>\n",
       "    </tr>\n",
       "    <tr>\n",
       "      <th>3</th>\n",
       "      <td>プレサンス立売堀ベルヴィル</td>\n",
       "      <td>大阪府大阪市西区立売堀４</td>\n",
       "      <td>\\n地下鉄千日前線/阿波座駅 歩5分\\n地下鉄長堀鶴見緑地線/西長堀駅 歩6分\\n地下鉄四つ...</td>\n",
       "      <td>\\n築3年\\n15階建\\n</td>\n",
       "      <td>\\n\\t\\t\\t\\t\\t\\t\\t\\t\\t\\t\\t2階</td>\n",
       "      <td>6.38</td>\n",
       "      <td>7310円</td>\n",
       "      <td>-</td>\n",
       "      <td>6.38万円</td>\n",
       "      <td>1K</td>\n",
       "      <td>23.2m2</td>\n",
       "    </tr>\n",
       "    <tr>\n",
       "      <th>4</th>\n",
       "      <td>プレサンス立売堀ベルヴィル</td>\n",
       "      <td>大阪府大阪市西区立売堀４</td>\n",
       "      <td>\\n地下鉄千日前線/阿波座駅 歩5分\\n地下鉄長堀鶴見緑地線/西長堀駅 歩6分\\n地下鉄四つ...</td>\n",
       "      <td>\\n築3年\\n15階建\\n</td>\n",
       "      <td>\\n\\t\\t\\t\\t\\t\\t\\t\\t\\t\\t\\t10階</td>\n",
       "      <td>6.53</td>\n",
       "      <td>7250円</td>\n",
       "      <td>-</td>\n",
       "      <td>6.53万円</td>\n",
       "      <td>1K</td>\n",
       "      <td>23.2m2</td>\n",
       "    </tr>\n",
       "    <tr>\n",
       "      <th>5</th>\n",
       "      <td>プレサンス立売堀ベルヴィル</td>\n",
       "      <td>大阪府大阪市西区立売堀４</td>\n",
       "      <td>\\n地下鉄千日前線/阿波座駅 歩5分\\n地下鉄長堀鶴見緑地線/西長堀駅 歩6分\\n地下鉄四つ...</td>\n",
       "      <td>\\n築3年\\n15階建\\n</td>\n",
       "      <td>\\n\\t\\t\\t\\t\\t\\t\\t\\t\\t\\t\\t11階</td>\n",
       "      <td>6.56</td>\n",
       "      <td>7250円</td>\n",
       "      <td>-</td>\n",
       "      <td>-</td>\n",
       "      <td>1K</td>\n",
       "      <td>23.2m2</td>\n",
       "    </tr>\n",
       "  </tbody>\n",
       "</table>\n",
       "</div>"
      ],
      "text/plain": [
       "0                           title       address  \\\n",
       "1  ルシエルみなと通り　旭化成ヘーベルメゾンHEBEL HAUS  大阪府大阪市西区九条南２   \n",
       "2                   プレサンス立売堀ベルヴィル  大阪府大阪市西区立売堀４   \n",
       "3                   プレサンス立売堀ベルヴィル  大阪府大阪市西区立売堀４   \n",
       "4                   プレサンス立売堀ベルヴィル  大阪府大阪市西区立売堀４   \n",
       "5                   プレサンス立売堀ベルヴィル  大阪府大阪市西区立売堀４   \n",
       "\n",
       "0                                             access            age  \\\n",
       "1  \\n地下鉄中央線/九条駅 歩5分\\n地下鉄長堀鶴見緑地線/ドーム前千代崎駅 歩7分\\nＪＲ大...   \\n築8年\\n4階建\\n   \n",
       "2  \\n地下鉄千日前線/阿波座駅 歩5分\\n地下鉄長堀鶴見緑地線/西長堀駅 歩6分\\n地下鉄四つ...  \\n築3年\\n15階建\\n   \n",
       "3  \\n地下鉄千日前線/阿波座駅 歩5分\\n地下鉄長堀鶴見緑地線/西長堀駅 歩6分\\n地下鉄四つ...  \\n築3年\\n15階建\\n   \n",
       "4  \\n地下鉄千日前線/阿波座駅 歩5分\\n地下鉄長堀鶴見緑地線/西長堀駅 歩6分\\n地下鉄四つ...  \\n築3年\\n15階建\\n   \n",
       "5  \\n地下鉄千日前線/阿波座駅 歩5分\\n地下鉄長堀鶴見緑地線/西長堀駅 歩6分\\n地下鉄四つ...  \\n築3年\\n15階建\\n   \n",
       "\n",
       "0                        floor   fee management_fee deposit gratuity madori  \\\n",
       "1   \\n\\t\\t\\t\\t\\t\\t\\t\\t\\t\\t\\t3階   8.3          6000円     5万円   16.6万円   1LDK   \n",
       "2   \\n\\t\\t\\t\\t\\t\\t\\t\\t\\t\\t\\t4階  6.15          7250円       -   6.15万円     1K   \n",
       "3   \\n\\t\\t\\t\\t\\t\\t\\t\\t\\t\\t\\t2階  6.38          7310円       -   6.38万円     1K   \n",
       "4  \\n\\t\\t\\t\\t\\t\\t\\t\\t\\t\\t\\t10階  6.53          7250円       -   6.53万円     1K   \n",
       "5  \\n\\t\\t\\t\\t\\t\\t\\t\\t\\t\\t\\t11階  6.56          7250円       -        -     1K   \n",
       "\n",
       "0  menseki  \n",
       "1  46.83m2  \n",
       "2  23.02m2  \n",
       "3   23.2m2  \n",
       "4   23.2m2  \n",
       "5   23.2m2  "
      ]
     },
     "execution_count": 81,
     "metadata": {},
     "output_type": "execute_result"
    }
   ],
   "source": [
    "#feeの万円を削除しobject型からfloat型へ変換\n",
    "\n",
    "df['fee'] = df['fee'].str.replace(\"万円\",\"\")\n",
    "df.head()"
   ]
  },
  {
   "cell_type": "code",
   "execution_count": 82,
   "id": "b1744f7c-4eab-470a-89be-6dc7084a2be2",
   "metadata": {
    "tags": []
   },
   "outputs": [
    {
     "data": {
      "text/plain": [
       "0\n",
       "title              object\n",
       "address            object\n",
       "access             object\n",
       "age                object\n",
       "floor              object\n",
       "fee               float64\n",
       "management_fee     object\n",
       "deposit            object\n",
       "gratuity           object\n",
       "madori             object\n",
       "menseki            object\n",
       "dtype: object"
      ]
     },
     "execution_count": 82,
     "metadata": {},
     "output_type": "execute_result"
    }
   ],
   "source": [
    "df['fee'] = df['fee'].astype(float)\n",
    "df.dtypes"
   ]
  },
  {
   "cell_type": "code",
   "execution_count": 83,
   "id": "d08c9714-01e3-459e-838d-320db3ad93da",
   "metadata": {},
   "outputs": [
    {
     "data": {
      "text/plain": [
       "7.664453551912573"
      ]
     },
     "execution_count": 83,
     "metadata": {},
     "output_type": "execute_result"
    }
   ],
   "source": [
    "#家賃を数値に変換して平均値出してみる！\n",
    "df['fee'].mean()"
   ]
  },
  {
   "cell_type": "code",
   "execution_count": 84,
   "id": "f2be099e-1fda-4560-b65f-ce82e181834c",
   "metadata": {
    "collapsed": true,
    "jupyter": {
     "outputs_hidden": true
    },
    "tags": []
   },
   "outputs": [
    {
     "data": {
      "text/html": [
       "<div>\n",
       "<style scoped>\n",
       "    .dataframe tbody tr th:only-of-type {\n",
       "        vertical-align: middle;\n",
       "    }\n",
       "\n",
       "    .dataframe tbody tr th {\n",
       "        vertical-align: top;\n",
       "    }\n",
       "\n",
       "    .dataframe thead th {\n",
       "        text-align: right;\n",
       "    }\n",
       "</style>\n",
       "<table border=\"1\" class=\"dataframe\">\n",
       "  <thead>\n",
       "    <tr style=\"text-align: right;\">\n",
       "      <th></th>\n",
       "      <th>title</th>\n",
       "      <th>address</th>\n",
       "      <th>access</th>\n",
       "      <th>age</th>\n",
       "      <th>floor</th>\n",
       "      <th>fee</th>\n",
       "      <th>management_fee</th>\n",
       "      <th>deposit</th>\n",
       "      <th>gratuity</th>\n",
       "      <th>madori</th>\n",
       "      <th>menseki</th>\n",
       "    </tr>\n",
       "  </thead>\n",
       "  <tbody>\n",
       "    <tr>\n",
       "      <th>1</th>\n",
       "      <td>ルシエルみなと通り　旭化成ヘーベルメゾンHEBEL HAUS</td>\n",
       "      <td>大阪府大阪市西区九条南２</td>\n",
       "      <td>\\n地下鉄中央線/九条駅 歩5分\\n地下鉄長堀鶴見緑地線/ドーム前千代崎駅 歩7分\\nＪＲ大...</td>\n",
       "      <td>\\n築8年\\n4階建\\n</td>\n",
       "      <td>3階</td>\n",
       "      <td>8.30</td>\n",
       "      <td>6000円</td>\n",
       "      <td>5万円</td>\n",
       "      <td>16.6万円</td>\n",
       "      <td>1LDK</td>\n",
       "      <td>46.83m2</td>\n",
       "    </tr>\n",
       "    <tr>\n",
       "      <th>2</th>\n",
       "      <td>プレサンス立売堀ベルヴィル</td>\n",
       "      <td>大阪府大阪市西区立売堀４</td>\n",
       "      <td>\\n地下鉄千日前線/阿波座駅 歩5分\\n地下鉄長堀鶴見緑地線/西長堀駅 歩6分\\n地下鉄四つ...</td>\n",
       "      <td>\\n築3年\\n15階建\\n</td>\n",
       "      <td>4階</td>\n",
       "      <td>6.15</td>\n",
       "      <td>7250円</td>\n",
       "      <td>-</td>\n",
       "      <td>6.15万円</td>\n",
       "      <td>1K</td>\n",
       "      <td>23.02m2</td>\n",
       "    </tr>\n",
       "    <tr>\n",
       "      <th>3</th>\n",
       "      <td>プレサンス立売堀ベルヴィル</td>\n",
       "      <td>大阪府大阪市西区立売堀４</td>\n",
       "      <td>\\n地下鉄千日前線/阿波座駅 歩5分\\n地下鉄長堀鶴見緑地線/西長堀駅 歩6分\\n地下鉄四つ...</td>\n",
       "      <td>\\n築3年\\n15階建\\n</td>\n",
       "      <td>2階</td>\n",
       "      <td>6.38</td>\n",
       "      <td>7310円</td>\n",
       "      <td>-</td>\n",
       "      <td>6.38万円</td>\n",
       "      <td>1K</td>\n",
       "      <td>23.2m2</td>\n",
       "    </tr>\n",
       "    <tr>\n",
       "      <th>4</th>\n",
       "      <td>プレサンス立売堀ベルヴィル</td>\n",
       "      <td>大阪府大阪市西区立売堀４</td>\n",
       "      <td>\\n地下鉄千日前線/阿波座駅 歩5分\\n地下鉄長堀鶴見緑地線/西長堀駅 歩6分\\n地下鉄四つ...</td>\n",
       "      <td>\\n築3年\\n15階建\\n</td>\n",
       "      <td>10階</td>\n",
       "      <td>6.53</td>\n",
       "      <td>7250円</td>\n",
       "      <td>-</td>\n",
       "      <td>6.53万円</td>\n",
       "      <td>1K</td>\n",
       "      <td>23.2m2</td>\n",
       "    </tr>\n",
       "    <tr>\n",
       "      <th>5</th>\n",
       "      <td>プレサンス立売堀ベルヴィル</td>\n",
       "      <td>大阪府大阪市西区立売堀４</td>\n",
       "      <td>\\n地下鉄千日前線/阿波座駅 歩5分\\n地下鉄長堀鶴見緑地線/西長堀駅 歩6分\\n地下鉄四つ...</td>\n",
       "      <td>\\n築3年\\n15階建\\n</td>\n",
       "      <td>11階</td>\n",
       "      <td>6.56</td>\n",
       "      <td>7250円</td>\n",
       "      <td>-</td>\n",
       "      <td>-</td>\n",
       "      <td>1K</td>\n",
       "      <td>23.2m2</td>\n",
       "    </tr>\n",
       "  </tbody>\n",
       "</table>\n",
       "</div>"
      ],
      "text/plain": [
       "0                           title       address  \\\n",
       "1  ルシエルみなと通り　旭化成ヘーベルメゾンHEBEL HAUS  大阪府大阪市西区九条南２   \n",
       "2                   プレサンス立売堀ベルヴィル  大阪府大阪市西区立売堀４   \n",
       "3                   プレサンス立売堀ベルヴィル  大阪府大阪市西区立売堀４   \n",
       "4                   プレサンス立売堀ベルヴィル  大阪府大阪市西区立売堀４   \n",
       "5                   プレサンス立売堀ベルヴィル  大阪府大阪市西区立売堀４   \n",
       "\n",
       "0                                             access            age floor  \\\n",
       "1  \\n地下鉄中央線/九条駅 歩5分\\n地下鉄長堀鶴見緑地線/ドーム前千代崎駅 歩7分\\nＪＲ大...   \\n築8年\\n4階建\\n    3階   \n",
       "2  \\n地下鉄千日前線/阿波座駅 歩5分\\n地下鉄長堀鶴見緑地線/西長堀駅 歩6分\\n地下鉄四つ...  \\n築3年\\n15階建\\n    4階   \n",
       "3  \\n地下鉄千日前線/阿波座駅 歩5分\\n地下鉄長堀鶴見緑地線/西長堀駅 歩6分\\n地下鉄四つ...  \\n築3年\\n15階建\\n    2階   \n",
       "4  \\n地下鉄千日前線/阿波座駅 歩5分\\n地下鉄長堀鶴見緑地線/西長堀駅 歩6分\\n地下鉄四つ...  \\n築3年\\n15階建\\n   10階   \n",
       "5  \\n地下鉄千日前線/阿波座駅 歩5分\\n地下鉄長堀鶴見緑地線/西長堀駅 歩6分\\n地下鉄四つ...  \\n築3年\\n15階建\\n   11階   \n",
       "\n",
       "0   fee management_fee deposit gratuity madori  menseki  \n",
       "1  8.30          6000円     5万円   16.6万円   1LDK  46.83m2  \n",
       "2  6.15          7250円       -   6.15万円     1K  23.02m2  \n",
       "3  6.38          7310円       -   6.38万円     1K   23.2m2  \n",
       "4  6.53          7250円       -   6.53万円     1K   23.2m2  \n",
       "5  6.56          7250円       -        -     1K   23.2m2  "
      ]
     },
     "execution_count": 84,
     "metadata": {},
     "output_type": "execute_result"
    }
   ],
   "source": [
    "#階数の/tを削除\n",
    "\n",
    "df['floor'] = df['floor'].str.replace(\"\\n\",\"\")\n",
    "df['floor'] = df['floor'].str.replace(\"\\r\",\"\")\n",
    "df['floor'] = df['floor'].str.replace(\"\\t\",\"\")\n",
    "df.head()"
   ]
  },
  {
   "cell_type": "code",
   "execution_count": 85,
   "id": "f775def9-6a86-4fce-afc0-d8b36b9491f2",
   "metadata": {
    "collapsed": true,
    "jupyter": {
     "outputs_hidden": true,
     "source_hidden": true
    },
    "tags": []
   },
   "outputs": [
    {
     "data": {
      "text/html": [
       "<div>\n",
       "<style scoped>\n",
       "    .dataframe tbody tr th:only-of-type {\n",
       "        vertical-align: middle;\n",
       "    }\n",
       "\n",
       "    .dataframe tbody tr th {\n",
       "        vertical-align: top;\n",
       "    }\n",
       "\n",
       "    .dataframe thead th {\n",
       "        text-align: right;\n",
       "    }\n",
       "</style>\n",
       "<table border=\"1\" class=\"dataframe\">\n",
       "  <thead>\n",
       "    <tr style=\"text-align: right;\">\n",
       "      <th></th>\n",
       "      <th>title</th>\n",
       "      <th>address</th>\n",
       "      <th>access</th>\n",
       "      <th>age</th>\n",
       "      <th>floor</th>\n",
       "      <th>fee</th>\n",
       "      <th>management_fee</th>\n",
       "      <th>deposit</th>\n",
       "      <th>gratuity</th>\n",
       "      <th>madori</th>\n",
       "      <th>menseki</th>\n",
       "    </tr>\n",
       "  </thead>\n",
       "  <tbody>\n",
       "    <tr>\n",
       "      <th>1</th>\n",
       "      <td>ルシエルみなと通り　旭化成ヘーベルメゾンHEBEL HAUS</td>\n",
       "      <td>大阪市西区九条南２</td>\n",
       "      <td>地下鉄中央線/九条駅 歩5分 地下鉄長堀鶴見緑地線/ドーム前千代崎駅 歩7分 ＪＲ大阪環状...</td>\n",
       "      <td>築8年 4階建</td>\n",
       "      <td>3階</td>\n",
       "      <td>8.30</td>\n",
       "      <td>6000円</td>\n",
       "      <td>5万円</td>\n",
       "      <td>16.6万円</td>\n",
       "      <td>1LDK</td>\n",
       "      <td>46.83m2</td>\n",
       "    </tr>\n",
       "    <tr>\n",
       "      <th>2</th>\n",
       "      <td>プレサンス立売堀ベルヴィル</td>\n",
       "      <td>大阪市西区立売堀４</td>\n",
       "      <td>地下鉄千日前線/阿波座駅 歩5分 地下鉄長堀鶴見緑地線/西長堀駅 歩6分 地下鉄四つ橋線/...</td>\n",
       "      <td>築3年 15階建</td>\n",
       "      <td>4階</td>\n",
       "      <td>6.15</td>\n",
       "      <td>7250円</td>\n",
       "      <td>-</td>\n",
       "      <td>6.15万円</td>\n",
       "      <td>1K</td>\n",
       "      <td>23.02m2</td>\n",
       "    </tr>\n",
       "    <tr>\n",
       "      <th>3</th>\n",
       "      <td>プレサンス立売堀ベルヴィル</td>\n",
       "      <td>大阪市西区立売堀４</td>\n",
       "      <td>地下鉄千日前線/阿波座駅 歩5分 地下鉄長堀鶴見緑地線/西長堀駅 歩6分 地下鉄四つ橋線/...</td>\n",
       "      <td>築3年 15階建</td>\n",
       "      <td>2階</td>\n",
       "      <td>6.38</td>\n",
       "      <td>7310円</td>\n",
       "      <td>-</td>\n",
       "      <td>6.38万円</td>\n",
       "      <td>1K</td>\n",
       "      <td>23.2m2</td>\n",
       "    </tr>\n",
       "    <tr>\n",
       "      <th>4</th>\n",
       "      <td>プレサンス立売堀ベルヴィル</td>\n",
       "      <td>大阪市西区立売堀４</td>\n",
       "      <td>地下鉄千日前線/阿波座駅 歩5分 地下鉄長堀鶴見緑地線/西長堀駅 歩6分 地下鉄四つ橋線/...</td>\n",
       "      <td>築3年 15階建</td>\n",
       "      <td>10階</td>\n",
       "      <td>6.53</td>\n",
       "      <td>7250円</td>\n",
       "      <td>-</td>\n",
       "      <td>6.53万円</td>\n",
       "      <td>1K</td>\n",
       "      <td>23.2m2</td>\n",
       "    </tr>\n",
       "    <tr>\n",
       "      <th>5</th>\n",
       "      <td>プレサンス立売堀ベルヴィル</td>\n",
       "      <td>大阪市西区立売堀４</td>\n",
       "      <td>地下鉄千日前線/阿波座駅 歩5分 地下鉄長堀鶴見緑地線/西長堀駅 歩6分 地下鉄四つ橋線/...</td>\n",
       "      <td>築3年 15階建</td>\n",
       "      <td>11階</td>\n",
       "      <td>6.56</td>\n",
       "      <td>7250円</td>\n",
       "      <td>-</td>\n",
       "      <td>-</td>\n",
       "      <td>1K</td>\n",
       "      <td>23.2m2</td>\n",
       "    </tr>\n",
       "  </tbody>\n",
       "</table>\n",
       "</div>"
      ],
      "text/plain": [
       "0                           title    address  \\\n",
       "1  ルシエルみなと通り　旭化成ヘーベルメゾンHEBEL HAUS  大阪市西区九条南２   \n",
       "2                   プレサンス立売堀ベルヴィル  大阪市西区立売堀４   \n",
       "3                   プレサンス立売堀ベルヴィル  大阪市西区立売堀４   \n",
       "4                   プレサンス立売堀ベルヴィル  大阪市西区立売堀４   \n",
       "5                   プレサンス立売堀ベルヴィル  大阪市西区立売堀４   \n",
       "\n",
       "0                                             access         age floor   fee  \\\n",
       "1   地下鉄中央線/九条駅 歩5分 地下鉄長堀鶴見緑地線/ドーム前千代崎駅 歩7分 ＪＲ大阪環状...    築8年 4階建     3階  8.30   \n",
       "2   地下鉄千日前線/阿波座駅 歩5分 地下鉄長堀鶴見緑地線/西長堀駅 歩6分 地下鉄四つ橋線/...   築3年 15階建     4階  6.15   \n",
       "3   地下鉄千日前線/阿波座駅 歩5分 地下鉄長堀鶴見緑地線/西長堀駅 歩6分 地下鉄四つ橋線/...   築3年 15階建     2階  6.38   \n",
       "4   地下鉄千日前線/阿波座駅 歩5分 地下鉄長堀鶴見緑地線/西長堀駅 歩6分 地下鉄四つ橋線/...   築3年 15階建    10階  6.53   \n",
       "5   地下鉄千日前線/阿波座駅 歩5分 地下鉄長堀鶴見緑地線/西長堀駅 歩6分 地下鉄四つ橋線/...   築3年 15階建    11階  6.56   \n",
       "\n",
       "0 management_fee deposit gratuity madori  menseki  \n",
       "1          6000円     5万円   16.6万円   1LDK  46.83m2  \n",
       "2          7250円       -   6.15万円     1K  23.02m2  \n",
       "3          7310円       -   6.38万円     1K   23.2m2  \n",
       "4          7250円       -   6.53万円     1K   23.2m2  \n",
       "5          7250円       -        -     1K   23.2m2  "
      ]
     },
     "execution_count": 85,
     "metadata": {},
     "output_type": "execute_result"
    }
   ],
   "source": [
    "#access,ageの/nを削除、アドレスの大阪府削除\n",
    "\n",
    "df['access'] = df['access'].str.replace(\"\\n\",\" \")\n",
    "df['age'] = df['age'].str.replace(\"\\n\",\" \")\n",
    "df['address'] = df['address'].str.replace(\"大阪府\",\"\")\n",
    "df.head()"
   ]
  },
  {
   "cell_type": "markdown",
   "id": "9e7a71f2-ae7c-483d-8074-ffbfabd69586",
   "metadata": {},
   "source": [
    "■スプレッドシートに書き出す"
   ]
  },
  {
   "cell_type": "code",
   "execution_count": 87,
   "id": "1d7be25f-0ed5-40f0-ac8b-4d68607e4937",
   "metadata": {
    "collapsed": true,
    "jupyter": {
     "outputs_hidden": true
    },
    "tags": []
   },
   "outputs": [
    {
     "name": "stdout",
     "output_type": "stream",
     "text": [
      "Requirement already satisfied: gspread_dataframe in /Users/kuwayamaaki/opt/anaconda3/lib/python3.9/site-packages (3.3.0)\n",
      "Requirement already satisfied: six>=1.12.0 in /Users/kuwayamaaki/opt/anaconda3/lib/python3.9/site-packages (from gspread_dataframe) (1.16.0)\n",
      "Requirement already satisfied: pandas>=0.24.0 in /Users/kuwayamaaki/opt/anaconda3/lib/python3.9/site-packages (from gspread_dataframe) (1.4.4)\n",
      "Requirement already satisfied: gspread>=3.0.0 in /Users/kuwayamaaki/opt/anaconda3/lib/python3.9/site-packages (from gspread_dataframe) (5.8.0)\n",
      "Requirement already satisfied: google-auth-oauthlib>=0.4.1 in /Users/kuwayamaaki/opt/anaconda3/lib/python3.9/site-packages (from gspread>=3.0.0->gspread_dataframe) (1.0.0)\n",
      "Requirement already satisfied: google-auth>=1.12.0 in /Users/kuwayamaaki/opt/anaconda3/lib/python3.9/site-packages (from gspread>=3.0.0->gspread_dataframe) (2.17.1)\n",
      "Requirement already satisfied: python-dateutil>=2.8.1 in /Users/kuwayamaaki/opt/anaconda3/lib/python3.9/site-packages (from pandas>=0.24.0->gspread_dataframe) (2.8.2)\n",
      "Requirement already satisfied: pytz>=2020.1 in /Users/kuwayamaaki/opt/anaconda3/lib/python3.9/site-packages (from pandas>=0.24.0->gspread_dataframe) (2023.3)\n",
      "Requirement already satisfied: numpy>=1.18.5 in /Users/kuwayamaaki/opt/anaconda3/lib/python3.9/site-packages (from pandas>=0.24.0->gspread_dataframe) (1.21.5)\n",
      "Requirement already satisfied: cachetools<6.0,>=2.0.0 in /Users/kuwayamaaki/opt/anaconda3/lib/python3.9/site-packages (from google-auth>=1.12.0->gspread>=3.0.0->gspread_dataframe) (5.3.0)\n",
      "Requirement already satisfied: rsa<5,>=3.1.4 in /Users/kuwayamaaki/opt/anaconda3/lib/python3.9/site-packages (from google-auth>=1.12.0->gspread>=3.0.0->gspread_dataframe) (4.9)\n",
      "Requirement already satisfied: pyasn1-modules>=0.2.1 in /Users/kuwayamaaki/opt/anaconda3/lib/python3.9/site-packages (from google-auth>=1.12.0->gspread>=3.0.0->gspread_dataframe) (0.2.8)\n",
      "Requirement already satisfied: requests-oauthlib>=0.7.0 in /Users/kuwayamaaki/opt/anaconda3/lib/python3.9/site-packages (from google-auth-oauthlib>=0.4.1->gspread>=3.0.0->gspread_dataframe) (1.3.1)\n",
      "Requirement already satisfied: pyasn1<0.5.0,>=0.4.6 in /Users/kuwayamaaki/opt/anaconda3/lib/python3.9/site-packages (from pyasn1-modules>=0.2.1->google-auth>=1.12.0->gspread>=3.0.0->gspread_dataframe) (0.4.8)\n",
      "Requirement already satisfied: requests>=2.0.0 in /Users/kuwayamaaki/opt/anaconda3/lib/python3.9/site-packages (from requests-oauthlib>=0.7.0->google-auth-oauthlib>=0.4.1->gspread>=3.0.0->gspread_dataframe) (2.28.1)\n",
      "Requirement already satisfied: oauthlib>=3.0.0 in /Users/kuwayamaaki/opt/anaconda3/lib/python3.9/site-packages (from requests-oauthlib>=0.7.0->google-auth-oauthlib>=0.4.1->gspread>=3.0.0->gspread_dataframe) (3.2.2)\n",
      "Requirement already satisfied: charset-normalizer<3,>=2 in /Users/kuwayamaaki/opt/anaconda3/lib/python3.9/site-packages (from requests>=2.0.0->requests-oauthlib>=0.7.0->google-auth-oauthlib>=0.4.1->gspread>=3.0.0->gspread_dataframe) (2.0.4)\n",
      "Requirement already satisfied: urllib3<1.27,>=1.21.1 in /Users/kuwayamaaki/opt/anaconda3/lib/python3.9/site-packages (from requests>=2.0.0->requests-oauthlib>=0.7.0->google-auth-oauthlib>=0.4.1->gspread>=3.0.0->gspread_dataframe) (1.26.11)\n",
      "Requirement already satisfied: idna<4,>=2.5 in /Users/kuwayamaaki/opt/anaconda3/lib/python3.9/site-packages (from requests>=2.0.0->requests-oauthlib>=0.7.0->google-auth-oauthlib>=0.4.1->gspread>=3.0.0->gspread_dataframe) (3.3)\n",
      "Requirement already satisfied: certifi>=2017.4.17 in /Users/kuwayamaaki/opt/anaconda3/lib/python3.9/site-packages (from requests>=2.0.0->requests-oauthlib>=0.7.0->google-auth-oauthlib>=0.4.1->gspread>=3.0.0->gspread_dataframe) (2022.9.24)\n"
     ]
    }
   ],
   "source": [
    "!pip3 install gspread_dataframe"
   ]
  },
  {
   "cell_type": "code",
   "execution_count": 93,
   "id": "435a821b-0ef2-4f78-a0f9-06469318c48a",
   "metadata": {},
   "outputs": [],
   "source": [
    "from gspread_dataframe import set_with_dataframe"
   ]
  },
  {
   "cell_type": "code",
   "execution_count": 94,
   "id": "65785f7a-cef7-41cf-8565-967fecb4afb0",
   "metadata": {
    "collapsed": true,
    "jupyter": {
     "outputs_hidden": true
    },
    "tags": []
   },
   "outputs": [
    {
     "ename": "APIError",
     "evalue": "{'code': 400, 'message': 'Invalid requests[0].addSheet: A sheet with the name \"new_suumo_nishiku\" already exists. Please enter another name.', 'status': 'INVALID_ARGUMENT'}",
     "output_type": "error",
     "traceback": [
      "\u001b[0;31m---------------------------------------------------------------------------\u001b[0m",
      "\u001b[0;31mAPIError\u001b[0m                                  Traceback (most recent call last)",
      "\u001b[0;32m/var/folders/nb/hc4ypjts4tg2yrf1r8r91vq00000gn/T/ipykernel_62919/3164895661.py\u001b[0m in \u001b[0;36m<module>\u001b[0;34m\u001b[0m\n\u001b[0;32m----> 1\u001b[0;31m \u001b[0mworkbook\u001b[0m\u001b[0;34m.\u001b[0m\u001b[0madd_worksheet\u001b[0m\u001b[0;34m(\u001b[0m\u001b[0mtitle\u001b[0m \u001b[0;34m=\u001b[0m \u001b[0;34m\"new_suumo_nishiku\"\u001b[0m\u001b[0;34m,\u001b[0m \u001b[0mrows\u001b[0m\u001b[0;34m=\u001b[0m\u001b[0;36m50\u001b[0m\u001b[0;34m,\u001b[0m \u001b[0mcols\u001b[0m\u001b[0;34m=\u001b[0m\u001b[0;36m11\u001b[0m\u001b[0;34m)\u001b[0m\u001b[0;34m\u001b[0m\u001b[0;34m\u001b[0m\u001b[0m\n\u001b[0m",
      "\u001b[0;32m~/opt/anaconda3/lib/python3.9/site-packages/gspread/spreadsheet.py\u001b[0m in \u001b[0;36madd_worksheet\u001b[0;34m(self, title, rows, cols, index)\u001b[0m\n\u001b[1;32m    375\u001b[0m             \u001b[0mbody\u001b[0m\u001b[0;34m[\u001b[0m\u001b[0;34m\"requests\"\u001b[0m\u001b[0;34m]\u001b[0m\u001b[0;34m[\u001b[0m\u001b[0;36m0\u001b[0m\u001b[0;34m]\u001b[0m\u001b[0;34m[\u001b[0m\u001b[0;34m\"addSheet\"\u001b[0m\u001b[0;34m]\u001b[0m\u001b[0;34m[\u001b[0m\u001b[0;34m\"properties\"\u001b[0m\u001b[0;34m]\u001b[0m\u001b[0;34m[\u001b[0m\u001b[0;34m\"index\"\u001b[0m\u001b[0;34m]\u001b[0m \u001b[0;34m=\u001b[0m \u001b[0mindex\u001b[0m\u001b[0;34m\u001b[0m\u001b[0;34m\u001b[0m\u001b[0m\n\u001b[1;32m    376\u001b[0m \u001b[0;34m\u001b[0m\u001b[0m\n\u001b[0;32m--> 377\u001b[0;31m         \u001b[0mdata\u001b[0m \u001b[0;34m=\u001b[0m \u001b[0mself\u001b[0m\u001b[0;34m.\u001b[0m\u001b[0mbatch_update\u001b[0m\u001b[0;34m(\u001b[0m\u001b[0mbody\u001b[0m\u001b[0;34m)\u001b[0m\u001b[0;34m\u001b[0m\u001b[0;34m\u001b[0m\u001b[0m\n\u001b[0m\u001b[1;32m    378\u001b[0m \u001b[0;34m\u001b[0m\u001b[0m\n\u001b[1;32m    379\u001b[0m         \u001b[0mproperties\u001b[0m \u001b[0;34m=\u001b[0m \u001b[0mdata\u001b[0m\u001b[0;34m[\u001b[0m\u001b[0;34m\"replies\"\u001b[0m\u001b[0;34m]\u001b[0m\u001b[0;34m[\u001b[0m\u001b[0;36m0\u001b[0m\u001b[0;34m]\u001b[0m\u001b[0;34m[\u001b[0m\u001b[0;34m\"addSheet\"\u001b[0m\u001b[0;34m]\u001b[0m\u001b[0;34m[\u001b[0m\u001b[0;34m\"properties\"\u001b[0m\u001b[0;34m]\u001b[0m\u001b[0;34m\u001b[0m\u001b[0;34m\u001b[0m\u001b[0m\n",
      "\u001b[0;32m~/opt/anaconda3/lib/python3.9/site-packages/gspread/spreadsheet.py\u001b[0m in \u001b[0;36mbatch_update\u001b[0;34m(self, body)\u001b[0m\n\u001b[1;32m    129\u001b[0m         \u001b[0;34m.\u001b[0m\u001b[0;34m.\u001b[0m \u001b[0mversionadded\u001b[0m\u001b[0;34m:\u001b[0m\u001b[0;34m:\u001b[0m \u001b[0;36m3.0\u001b[0m\u001b[0;34m\u001b[0m\u001b[0;34m\u001b[0m\u001b[0m\n\u001b[1;32m    130\u001b[0m         \"\"\"\n\u001b[0;32m--> 131\u001b[0;31m         r = self.client.request(\n\u001b[0m\u001b[1;32m    132\u001b[0m             \u001b[0;34m\"post\"\u001b[0m\u001b[0;34m,\u001b[0m \u001b[0mSPREADSHEET_BATCH_UPDATE_URL\u001b[0m \u001b[0;34m%\u001b[0m \u001b[0mself\u001b[0m\u001b[0;34m.\u001b[0m\u001b[0mid\u001b[0m\u001b[0;34m,\u001b[0m \u001b[0mjson\u001b[0m\u001b[0;34m=\u001b[0m\u001b[0mbody\u001b[0m\u001b[0;34m\u001b[0m\u001b[0;34m\u001b[0m\u001b[0m\n\u001b[1;32m    133\u001b[0m         )\n",
      "\u001b[0;32m~/opt/anaconda3/lib/python3.9/site-packages/gspread/client.py\u001b[0m in \u001b[0;36mrequest\u001b[0;34m(self, method, endpoint, params, data, json, files, headers)\u001b[0m\n\u001b[1;32m     90\u001b[0m             \u001b[0;32mreturn\u001b[0m \u001b[0mresponse\u001b[0m\u001b[0;34m\u001b[0m\u001b[0;34m\u001b[0m\u001b[0m\n\u001b[1;32m     91\u001b[0m         \u001b[0;32melse\u001b[0m\u001b[0;34m:\u001b[0m\u001b[0;34m\u001b[0m\u001b[0;34m\u001b[0m\u001b[0m\n\u001b[0;32m---> 92\u001b[0;31m             \u001b[0;32mraise\u001b[0m \u001b[0mAPIError\u001b[0m\u001b[0;34m(\u001b[0m\u001b[0mresponse\u001b[0m\u001b[0;34m)\u001b[0m\u001b[0;34m\u001b[0m\u001b[0;34m\u001b[0m\u001b[0m\n\u001b[0m\u001b[1;32m     93\u001b[0m \u001b[0;34m\u001b[0m\u001b[0m\n\u001b[1;32m     94\u001b[0m     \u001b[0;32mdef\u001b[0m \u001b[0mlist_spreadsheet_files\u001b[0m\u001b[0;34m(\u001b[0m\u001b[0mself\u001b[0m\u001b[0;34m,\u001b[0m \u001b[0mtitle\u001b[0m\u001b[0;34m=\u001b[0m\u001b[0;32mNone\u001b[0m\u001b[0;34m,\u001b[0m \u001b[0mfolder_id\u001b[0m\u001b[0;34m=\u001b[0m\u001b[0;32mNone\u001b[0m\u001b[0;34m)\u001b[0m\u001b[0;34m:\u001b[0m\u001b[0;34m\u001b[0m\u001b[0;34m\u001b[0m\u001b[0m\n",
      "\u001b[0;31mAPIError\u001b[0m: {'code': 400, 'message': 'Invalid requests[0].addSheet: A sheet with the name \"new_suumo_nishiku\" already exists. Please enter another name.', 'status': 'INVALID_ARGUMENT'}"
     ]
    }
   ],
   "source": [
    "workbook.add_worksheet(title = \"new_suumo_nishiku\", rows=50, cols=11)"
   ]
  },
  {
   "cell_type": "code",
   "execution_count": 96,
   "id": "5e9daee1-035c-4bfd-8124-66092faaf112",
   "metadata": {},
   "outputs": [],
   "source": [
    "set_with_dataframe(workbook.worksheet(\"new_suumo_nishiku\"),df, include_index = True)"
   ]
  },
  {
   "cell_type": "code",
   "execution_count": null,
   "id": "605ad5bf-615d-4996-9ce2-2d50c222809a",
   "metadata": {},
   "outputs": [],
   "source": []
  }
 ],
 "metadata": {
  "kernelspec": {
   "display_name": "Python 3 (ipykernel)",
   "language": "python",
   "name": "python3"
  },
  "language_info": {
   "codemirror_mode": {
    "name": "ipython",
    "version": 3
   },
   "file_extension": ".py",
   "mimetype": "text/x-python",
   "name": "python",
   "nbconvert_exporter": "python",
   "pygments_lexer": "ipython3",
   "version": "3.9.13"
  }
 },
 "nbformat": 4,
 "nbformat_minor": 5
}
